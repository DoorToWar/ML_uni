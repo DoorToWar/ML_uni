{
  "cells": [
    {
      "cell_type": "code",
      "execution_count": null,
      "metadata": {
        "id": "E_2wB8faebxb"
      },
      "outputs": [],
      "source": [
        "import numpy as np\n",
        "import pandas as pd\n",
        "import random\n",
        "from keras.layers import Dense\n",
        "import matplotlib.pyplot as plt\n",
        "from keras.models import Sequential\n",
        "from sklearn.preprocessing import LabelEncoder\n",
        "from sklearn.preprocessing import StandardScaler\n",
        "from sklearn.model_selection import train_test_split\n",
        "from sklearn.metrics import roc_curve, auc, roc_auc_score"
      ]
    },
    {
      "cell_type": "code",
      "execution_count": null,
      "metadata": {
        "id": "PoDj2yhiqSro"
      },
      "outputs": [],
      "source": [
        "random.seed()"
      ]
    },
    {
      "cell_type": "markdown",
      "metadata": {
        "id": "y4rVIXP_iQ_g"
      },
      "source": []
    },
    {
      "cell_type": "markdown",
      "metadata": {
        "id": "DV4MiHXUiN_G"
      },
      "source": [
        "Был загружен датасет с помощью библиотеки pandas."
      ]
    },
    {
      "cell_type": "code",
      "source": [],
      "metadata": {
        "id": "-XYYS8aw6Gdk"
      },
      "execution_count": null,
      "outputs": []
    },
    {
      "cell_type": "code",
      "execution_count": null,
      "metadata": {
        "id": "Tl8ub5KUh7Ql"
      },
      "outputs": [],
      "source": [
        "df = pd.read_csv(\"/content/Sleep_health_and_lifestyle_dataset.csv\")"
      ]
    },
    {
      "cell_type": "markdown",
      "metadata": {
        "id": "H8iq2zm3iTWN"
      },
      "source": [
        "Были выведены первые 10 строк данных."
      ]
    },
    {
      "cell_type": "code",
      "execution_count": null,
      "metadata": {
        "colab": {
          "base_uri": "https://localhost:8080/",
          "height": 363
        },
        "id": "xSBw2q0diZYZ",
        "outputId": "ed4f5f7f-e185-4a3a-efb0-ac97e28f8a88"
      },
      "outputs": [
        {
          "output_type": "execute_result",
          "data": {
            "text/plain": [
              "   Person ID Gender  Age            Occupation  Sleep Duration  \\\n",
              "0          1   Male   27     Software Engineer             6.1   \n",
              "1          2   Male   28                Doctor             6.2   \n",
              "2          3   Male   28                Doctor             6.2   \n",
              "3          4   Male   28  Sales Representative             5.9   \n",
              "4          5   Male   28  Sales Representative             5.9   \n",
              "5          6   Male   28     Software Engineer             5.9   \n",
              "6          7   Male   29               Teacher             6.3   \n",
              "7          8   Male   29                Doctor             7.8   \n",
              "8          9   Male   29                Doctor             7.8   \n",
              "9         10   Male   29                Doctor             7.8   \n",
              "\n",
              "   Quality of Sleep  Physical Activity Level  Stress Level BMI Category  \\\n",
              "0                 6                       42             6   Overweight   \n",
              "1                 6                       60             8       Normal   \n",
              "2                 6                       60             8       Normal   \n",
              "3                 4                       30             8        Obese   \n",
              "4                 4                       30             8        Obese   \n",
              "5                 4                       30             8        Obese   \n",
              "6                 6                       40             7        Obese   \n",
              "7                 7                       75             6       Normal   \n",
              "8                 7                       75             6       Normal   \n",
              "9                 7                       75             6       Normal   \n",
              "\n",
              "  Blood Pressure  Heart Rate  Daily Steps Sleep Disorder  \n",
              "0         126/83          77         4200           None  \n",
              "1         125/80          75        10000           None  \n",
              "2         125/80          75        10000           None  \n",
              "3         140/90          85         3000    Sleep Apnea  \n",
              "4         140/90          85         3000    Sleep Apnea  \n",
              "5         140/90          85         3000       Insomnia  \n",
              "6         140/90          82         3500       Insomnia  \n",
              "7         120/80          70         8000           None  \n",
              "8         120/80          70         8000           None  \n",
              "9         120/80          70         8000           None  "
            ],
            "text/html": [
              "\n",
              "  <div id=\"df-96a88175-c27d-4595-9156-a417f6bfe7a5\" class=\"colab-df-container\">\n",
              "    <div>\n",
              "<style scoped>\n",
              "    .dataframe tbody tr th:only-of-type {\n",
              "        vertical-align: middle;\n",
              "    }\n",
              "\n",
              "    .dataframe tbody tr th {\n",
              "        vertical-align: top;\n",
              "    }\n",
              "\n",
              "    .dataframe thead th {\n",
              "        text-align: right;\n",
              "    }\n",
              "</style>\n",
              "<table border=\"1\" class=\"dataframe\">\n",
              "  <thead>\n",
              "    <tr style=\"text-align: right;\">\n",
              "      <th></th>\n",
              "      <th>Person ID</th>\n",
              "      <th>Gender</th>\n",
              "      <th>Age</th>\n",
              "      <th>Occupation</th>\n",
              "      <th>Sleep Duration</th>\n",
              "      <th>Quality of Sleep</th>\n",
              "      <th>Physical Activity Level</th>\n",
              "      <th>Stress Level</th>\n",
              "      <th>BMI Category</th>\n",
              "      <th>Blood Pressure</th>\n",
              "      <th>Heart Rate</th>\n",
              "      <th>Daily Steps</th>\n",
              "      <th>Sleep Disorder</th>\n",
              "    </tr>\n",
              "  </thead>\n",
              "  <tbody>\n",
              "    <tr>\n",
              "      <th>0</th>\n",
              "      <td>1</td>\n",
              "      <td>Male</td>\n",
              "      <td>27</td>\n",
              "      <td>Software Engineer</td>\n",
              "      <td>6.1</td>\n",
              "      <td>6</td>\n",
              "      <td>42</td>\n",
              "      <td>6</td>\n",
              "      <td>Overweight</td>\n",
              "      <td>126/83</td>\n",
              "      <td>77</td>\n",
              "      <td>4200</td>\n",
              "      <td>None</td>\n",
              "    </tr>\n",
              "    <tr>\n",
              "      <th>1</th>\n",
              "      <td>2</td>\n",
              "      <td>Male</td>\n",
              "      <td>28</td>\n",
              "      <td>Doctor</td>\n",
              "      <td>6.2</td>\n",
              "      <td>6</td>\n",
              "      <td>60</td>\n",
              "      <td>8</td>\n",
              "      <td>Normal</td>\n",
              "      <td>125/80</td>\n",
              "      <td>75</td>\n",
              "      <td>10000</td>\n",
              "      <td>None</td>\n",
              "    </tr>\n",
              "    <tr>\n",
              "      <th>2</th>\n",
              "      <td>3</td>\n",
              "      <td>Male</td>\n",
              "      <td>28</td>\n",
              "      <td>Doctor</td>\n",
              "      <td>6.2</td>\n",
              "      <td>6</td>\n",
              "      <td>60</td>\n",
              "      <td>8</td>\n",
              "      <td>Normal</td>\n",
              "      <td>125/80</td>\n",
              "      <td>75</td>\n",
              "      <td>10000</td>\n",
              "      <td>None</td>\n",
              "    </tr>\n",
              "    <tr>\n",
              "      <th>3</th>\n",
              "      <td>4</td>\n",
              "      <td>Male</td>\n",
              "      <td>28</td>\n",
              "      <td>Sales Representative</td>\n",
              "      <td>5.9</td>\n",
              "      <td>4</td>\n",
              "      <td>30</td>\n",
              "      <td>8</td>\n",
              "      <td>Obese</td>\n",
              "      <td>140/90</td>\n",
              "      <td>85</td>\n",
              "      <td>3000</td>\n",
              "      <td>Sleep Apnea</td>\n",
              "    </tr>\n",
              "    <tr>\n",
              "      <th>4</th>\n",
              "      <td>5</td>\n",
              "      <td>Male</td>\n",
              "      <td>28</td>\n",
              "      <td>Sales Representative</td>\n",
              "      <td>5.9</td>\n",
              "      <td>4</td>\n",
              "      <td>30</td>\n",
              "      <td>8</td>\n",
              "      <td>Obese</td>\n",
              "      <td>140/90</td>\n",
              "      <td>85</td>\n",
              "      <td>3000</td>\n",
              "      <td>Sleep Apnea</td>\n",
              "    </tr>\n",
              "    <tr>\n",
              "      <th>5</th>\n",
              "      <td>6</td>\n",
              "      <td>Male</td>\n",
              "      <td>28</td>\n",
              "      <td>Software Engineer</td>\n",
              "      <td>5.9</td>\n",
              "      <td>4</td>\n",
              "      <td>30</td>\n",
              "      <td>8</td>\n",
              "      <td>Obese</td>\n",
              "      <td>140/90</td>\n",
              "      <td>85</td>\n",
              "      <td>3000</td>\n",
              "      <td>Insomnia</td>\n",
              "    </tr>\n",
              "    <tr>\n",
              "      <th>6</th>\n",
              "      <td>7</td>\n",
              "      <td>Male</td>\n",
              "      <td>29</td>\n",
              "      <td>Teacher</td>\n",
              "      <td>6.3</td>\n",
              "      <td>6</td>\n",
              "      <td>40</td>\n",
              "      <td>7</td>\n",
              "      <td>Obese</td>\n",
              "      <td>140/90</td>\n",
              "      <td>82</td>\n",
              "      <td>3500</td>\n",
              "      <td>Insomnia</td>\n",
              "    </tr>\n",
              "    <tr>\n",
              "      <th>7</th>\n",
              "      <td>8</td>\n",
              "      <td>Male</td>\n",
              "      <td>29</td>\n",
              "      <td>Doctor</td>\n",
              "      <td>7.8</td>\n",
              "      <td>7</td>\n",
              "      <td>75</td>\n",
              "      <td>6</td>\n",
              "      <td>Normal</td>\n",
              "      <td>120/80</td>\n",
              "      <td>70</td>\n",
              "      <td>8000</td>\n",
              "      <td>None</td>\n",
              "    </tr>\n",
              "    <tr>\n",
              "      <th>8</th>\n",
              "      <td>9</td>\n",
              "      <td>Male</td>\n",
              "      <td>29</td>\n",
              "      <td>Doctor</td>\n",
              "      <td>7.8</td>\n",
              "      <td>7</td>\n",
              "      <td>75</td>\n",
              "      <td>6</td>\n",
              "      <td>Normal</td>\n",
              "      <td>120/80</td>\n",
              "      <td>70</td>\n",
              "      <td>8000</td>\n",
              "      <td>None</td>\n",
              "    </tr>\n",
              "    <tr>\n",
              "      <th>9</th>\n",
              "      <td>10</td>\n",
              "      <td>Male</td>\n",
              "      <td>29</td>\n",
              "      <td>Doctor</td>\n",
              "      <td>7.8</td>\n",
              "      <td>7</td>\n",
              "      <td>75</td>\n",
              "      <td>6</td>\n",
              "      <td>Normal</td>\n",
              "      <td>120/80</td>\n",
              "      <td>70</td>\n",
              "      <td>8000</td>\n",
              "      <td>None</td>\n",
              "    </tr>\n",
              "  </tbody>\n",
              "</table>\n",
              "</div>\n",
              "    <div class=\"colab-df-buttons\">\n",
              "\n",
              "  <div class=\"colab-df-container\">\n",
              "    <button class=\"colab-df-convert\" onclick=\"convertToInteractive('df-96a88175-c27d-4595-9156-a417f6bfe7a5')\"\n",
              "            title=\"Convert this dataframe to an interactive table.\"\n",
              "            style=\"display:none;\">\n",
              "\n",
              "  <svg xmlns=\"http://www.w3.org/2000/svg\" height=\"24px\" viewBox=\"0 -960 960 960\">\n",
              "    <path d=\"M120-120v-720h720v720H120Zm60-500h600v-160H180v160Zm220 220h160v-160H400v160Zm0 220h160v-160H400v160ZM180-400h160v-160H180v160Zm440 0h160v-160H620v160ZM180-180h160v-160H180v160Zm440 0h160v-160H620v160Z\"/>\n",
              "  </svg>\n",
              "    </button>\n",
              "\n",
              "  <style>\n",
              "    .colab-df-container {\n",
              "      display:flex;\n",
              "      gap: 12px;\n",
              "    }\n",
              "\n",
              "    .colab-df-convert {\n",
              "      background-color: #E8F0FE;\n",
              "      border: none;\n",
              "      border-radius: 50%;\n",
              "      cursor: pointer;\n",
              "      display: none;\n",
              "      fill: #1967D2;\n",
              "      height: 32px;\n",
              "      padding: 0 0 0 0;\n",
              "      width: 32px;\n",
              "    }\n",
              "\n",
              "    .colab-df-convert:hover {\n",
              "      background-color: #E2EBFA;\n",
              "      box-shadow: 0px 1px 2px rgba(60, 64, 67, 0.3), 0px 1px 3px 1px rgba(60, 64, 67, 0.15);\n",
              "      fill: #174EA6;\n",
              "    }\n",
              "\n",
              "    .colab-df-buttons div {\n",
              "      margin-bottom: 4px;\n",
              "    }\n",
              "\n",
              "    [theme=dark] .colab-df-convert {\n",
              "      background-color: #3B4455;\n",
              "      fill: #D2E3FC;\n",
              "    }\n",
              "\n",
              "    [theme=dark] .colab-df-convert:hover {\n",
              "      background-color: #434B5C;\n",
              "      box-shadow: 0px 1px 3px 1px rgba(0, 0, 0, 0.15);\n",
              "      filter: drop-shadow(0px 1px 2px rgba(0, 0, 0, 0.3));\n",
              "      fill: #FFFFFF;\n",
              "    }\n",
              "  </style>\n",
              "\n",
              "    <script>\n",
              "      const buttonEl =\n",
              "        document.querySelector('#df-96a88175-c27d-4595-9156-a417f6bfe7a5 button.colab-df-convert');\n",
              "      buttonEl.style.display =\n",
              "        google.colab.kernel.accessAllowed ? 'block' : 'none';\n",
              "\n",
              "      async function convertToInteractive(key) {\n",
              "        const element = document.querySelector('#df-96a88175-c27d-4595-9156-a417f6bfe7a5');\n",
              "        const dataTable =\n",
              "          await google.colab.kernel.invokeFunction('convertToInteractive',\n",
              "                                                    [key], {});\n",
              "        if (!dataTable) return;\n",
              "\n",
              "        const docLinkHtml = 'Like what you see? Visit the ' +\n",
              "          '<a target=\"_blank\" href=https://colab.research.google.com/notebooks/data_table.ipynb>data table notebook</a>'\n",
              "          + ' to learn more about interactive tables.';\n",
              "        element.innerHTML = '';\n",
              "        dataTable['output_type'] = 'display_data';\n",
              "        await google.colab.output.renderOutput(dataTable, element);\n",
              "        const docLink = document.createElement('div');\n",
              "        docLink.innerHTML = docLinkHtml;\n",
              "        element.appendChild(docLink);\n",
              "      }\n",
              "    </script>\n",
              "  </div>\n",
              "\n",
              "\n",
              "<div id=\"df-0c496fbe-9c22-4cbf-a6df-c6addf2d9bde\">\n",
              "  <button class=\"colab-df-quickchart\" onclick=\"quickchart('df-0c496fbe-9c22-4cbf-a6df-c6addf2d9bde')\"\n",
              "            title=\"Suggest charts\"\n",
              "            style=\"display:none;\">\n",
              "\n",
              "<svg xmlns=\"http://www.w3.org/2000/svg\" height=\"24px\"viewBox=\"0 0 24 24\"\n",
              "     width=\"24px\">\n",
              "    <g>\n",
              "        <path d=\"M19 3H5c-1.1 0-2 .9-2 2v14c0 1.1.9 2 2 2h14c1.1 0 2-.9 2-2V5c0-1.1-.9-2-2-2zM9 17H7v-7h2v7zm4 0h-2V7h2v10zm4 0h-2v-4h2v4z\"/>\n",
              "    </g>\n",
              "</svg>\n",
              "  </button>\n",
              "\n",
              "<style>\n",
              "  .colab-df-quickchart {\n",
              "      --bg-color: #E8F0FE;\n",
              "      --fill-color: #1967D2;\n",
              "      --hover-bg-color: #E2EBFA;\n",
              "      --hover-fill-color: #174EA6;\n",
              "      --disabled-fill-color: #AAA;\n",
              "      --disabled-bg-color: #DDD;\n",
              "  }\n",
              "\n",
              "  [theme=dark] .colab-df-quickchart {\n",
              "      --bg-color: #3B4455;\n",
              "      --fill-color: #D2E3FC;\n",
              "      --hover-bg-color: #434B5C;\n",
              "      --hover-fill-color: #FFFFFF;\n",
              "      --disabled-bg-color: #3B4455;\n",
              "      --disabled-fill-color: #666;\n",
              "  }\n",
              "\n",
              "  .colab-df-quickchart {\n",
              "    background-color: var(--bg-color);\n",
              "    border: none;\n",
              "    border-radius: 50%;\n",
              "    cursor: pointer;\n",
              "    display: none;\n",
              "    fill: var(--fill-color);\n",
              "    height: 32px;\n",
              "    padding: 0;\n",
              "    width: 32px;\n",
              "  }\n",
              "\n",
              "  .colab-df-quickchart:hover {\n",
              "    background-color: var(--hover-bg-color);\n",
              "    box-shadow: 0 1px 2px rgba(60, 64, 67, 0.3), 0 1px 3px 1px rgba(60, 64, 67, 0.15);\n",
              "    fill: var(--button-hover-fill-color);\n",
              "  }\n",
              "\n",
              "  .colab-df-quickchart-complete:disabled,\n",
              "  .colab-df-quickchart-complete:disabled:hover {\n",
              "    background-color: var(--disabled-bg-color);\n",
              "    fill: var(--disabled-fill-color);\n",
              "    box-shadow: none;\n",
              "  }\n",
              "\n",
              "  .colab-df-spinner {\n",
              "    border: 2px solid var(--fill-color);\n",
              "    border-color: transparent;\n",
              "    border-bottom-color: var(--fill-color);\n",
              "    animation:\n",
              "      spin 1s steps(1) infinite;\n",
              "  }\n",
              "\n",
              "  @keyframes spin {\n",
              "    0% {\n",
              "      border-color: transparent;\n",
              "      border-bottom-color: var(--fill-color);\n",
              "      border-left-color: var(--fill-color);\n",
              "    }\n",
              "    20% {\n",
              "      border-color: transparent;\n",
              "      border-left-color: var(--fill-color);\n",
              "      border-top-color: var(--fill-color);\n",
              "    }\n",
              "    30% {\n",
              "      border-color: transparent;\n",
              "      border-left-color: var(--fill-color);\n",
              "      border-top-color: var(--fill-color);\n",
              "      border-right-color: var(--fill-color);\n",
              "    }\n",
              "    40% {\n",
              "      border-color: transparent;\n",
              "      border-right-color: var(--fill-color);\n",
              "      border-top-color: var(--fill-color);\n",
              "    }\n",
              "    60% {\n",
              "      border-color: transparent;\n",
              "      border-right-color: var(--fill-color);\n",
              "    }\n",
              "    80% {\n",
              "      border-color: transparent;\n",
              "      border-right-color: var(--fill-color);\n",
              "      border-bottom-color: var(--fill-color);\n",
              "    }\n",
              "    90% {\n",
              "      border-color: transparent;\n",
              "      border-bottom-color: var(--fill-color);\n",
              "    }\n",
              "  }\n",
              "</style>\n",
              "\n",
              "  <script>\n",
              "    async function quickchart(key) {\n",
              "      const quickchartButtonEl =\n",
              "        document.querySelector('#' + key + ' button');\n",
              "      quickchartButtonEl.disabled = true;  // To prevent multiple clicks.\n",
              "      quickchartButtonEl.classList.add('colab-df-spinner');\n",
              "      try {\n",
              "        const charts = await google.colab.kernel.invokeFunction(\n",
              "            'suggestCharts', [key], {});\n",
              "      } catch (error) {\n",
              "        console.error('Error during call to suggestCharts:', error);\n",
              "      }\n",
              "      quickchartButtonEl.classList.remove('colab-df-spinner');\n",
              "      quickchartButtonEl.classList.add('colab-df-quickchart-complete');\n",
              "    }\n",
              "    (() => {\n",
              "      let quickchartButtonEl =\n",
              "        document.querySelector('#df-0c496fbe-9c22-4cbf-a6df-c6addf2d9bde button');\n",
              "      quickchartButtonEl.style.display =\n",
              "        google.colab.kernel.accessAllowed ? 'block' : 'none';\n",
              "    })();\n",
              "  </script>\n",
              "</div>\n",
              "    </div>\n",
              "  </div>\n"
            ],
            "application/vnd.google.colaboratory.intrinsic+json": {
              "type": "dataframe",
              "variable_name": "df",
              "summary": "{\n  \"name\": \"df\",\n  \"rows\": 374,\n  \"fields\": [\n    {\n      \"column\": \"Person ID\",\n      \"properties\": {\n        \"dtype\": \"number\",\n        \"std\": 108,\n        \"min\": 1,\n        \"max\": 374,\n        \"num_unique_values\": 374,\n        \"samples\": [\n          330,\n          34,\n          16\n        ],\n        \"semantic_type\": \"\",\n        \"description\": \"\"\n      }\n    },\n    {\n      \"column\": \"Gender\",\n      \"properties\": {\n        \"dtype\": \"category\",\n        \"num_unique_values\": 2,\n        \"samples\": [\n          \"Female\",\n          \"Male\"\n        ],\n        \"semantic_type\": \"\",\n        \"description\": \"\"\n      }\n    },\n    {\n      \"column\": \"Age\",\n      \"properties\": {\n        \"dtype\": \"number\",\n        \"std\": 8,\n        \"min\": 27,\n        \"max\": 59,\n        \"num_unique_values\": 31,\n        \"samples\": [\n          56,\n          42\n        ],\n        \"semantic_type\": \"\",\n        \"description\": \"\"\n      }\n    },\n    {\n      \"column\": \"Occupation\",\n      \"properties\": {\n        \"dtype\": \"category\",\n        \"num_unique_values\": 11,\n        \"samples\": [\n          \"Engineer\",\n          \"Software Engineer\"\n        ],\n        \"semantic_type\": \"\",\n        \"description\": \"\"\n      }\n    },\n    {\n      \"column\": \"Sleep Duration\",\n      \"properties\": {\n        \"dtype\": \"number\",\n        \"std\": 0.7956567308898189,\n        \"min\": 5.8,\n        \"max\": 8.5,\n        \"num_unique_values\": 27,\n        \"samples\": [\n          7.7,\n          5.8\n        ],\n        \"semantic_type\": \"\",\n        \"description\": \"\"\n      }\n    },\n    {\n      \"column\": \"Quality of Sleep\",\n      \"properties\": {\n        \"dtype\": \"number\",\n        \"std\": 1,\n        \"min\": 4,\n        \"max\": 9,\n        \"num_unique_values\": 6,\n        \"samples\": [\n          6,\n          4\n        ],\n        \"semantic_type\": \"\",\n        \"description\": \"\"\n      }\n    },\n    {\n      \"column\": \"Physical Activity Level\",\n      \"properties\": {\n        \"dtype\": \"number\",\n        \"std\": 20,\n        \"min\": 30,\n        \"max\": 90,\n        \"num_unique_values\": 16,\n        \"samples\": [\n          42,\n          60\n        ],\n        \"semantic_type\": \"\",\n        \"description\": \"\"\n      }\n    },\n    {\n      \"column\": \"Stress Level\",\n      \"properties\": {\n        \"dtype\": \"number\",\n        \"std\": 1,\n        \"min\": 3,\n        \"max\": 8,\n        \"num_unique_values\": 6,\n        \"samples\": [\n          6,\n          8\n        ],\n        \"semantic_type\": \"\",\n        \"description\": \"\"\n      }\n    },\n    {\n      \"column\": \"BMI Category\",\n      \"properties\": {\n        \"dtype\": \"category\",\n        \"num_unique_values\": 4,\n        \"samples\": [\n          \"Normal\",\n          \"Normal Weight\"\n        ],\n        \"semantic_type\": \"\",\n        \"description\": \"\"\n      }\n    },\n    {\n      \"column\": \"Blood Pressure\",\n      \"properties\": {\n        \"dtype\": \"category\",\n        \"num_unique_values\": 25,\n        \"samples\": [\n          \"128/85\",\n          \"119/77\"\n        ],\n        \"semantic_type\": \"\",\n        \"description\": \"\"\n      }\n    },\n    {\n      \"column\": \"Heart Rate\",\n      \"properties\": {\n        \"dtype\": \"number\",\n        \"std\": 4,\n        \"min\": 65,\n        \"max\": 86,\n        \"num_unique_values\": 19,\n        \"samples\": [\n          77,\n          80\n        ],\n        \"semantic_type\": \"\",\n        \"description\": \"\"\n      }\n    },\n    {\n      \"column\": \"Daily Steps\",\n      \"properties\": {\n        \"dtype\": \"number\",\n        \"std\": 1617,\n        \"min\": 3000,\n        \"max\": 10000,\n        \"num_unique_values\": 20,\n        \"samples\": [\n          4200,\n          6200\n        ],\n        \"semantic_type\": \"\",\n        \"description\": \"\"\n      }\n    },\n    {\n      \"column\": \"Sleep Disorder\",\n      \"properties\": {\n        \"dtype\": \"category\",\n        \"num_unique_values\": 3,\n        \"samples\": [\n          \"None\",\n          \"Sleep Apnea\"\n        ],\n        \"semantic_type\": \"\",\n        \"description\": \"\"\n      }\n    }\n  ]\n}"
            }
          },
          "metadata": {},
          "execution_count": 55
        }
      ],
      "source": [
        "\n",
        "df.head(10)"
      ]
    },
    {
      "cell_type": "markdown",
      "metadata": {
        "id": "xmXwQvHco2vB"
      },
      "source": [
        "Обзор каждого столбца датасета:\n",
        "\n",
        "\n",
        "*   Идентификатор человека (Person ID): идентификатор каждого человека.\n",
        "*   Пол(Gender): Пол человека (Мужской/Женский).\n",
        "\n",
        "\n",
        "\n",
        "*   Возраст (Age): Возраст человека в годах\n",
        "\n",
        "*  Род занятий (Occupation) : Род занятий или профессия человека.\n",
        "\n",
        "*   Продолжительность сна (часы) (Sleep Duration ): количество часов, в течение которых человек спит в день.\n",
        "\n",
        "*   Качество сна (шкала: 1–10) (Quality of Sleep ): субъективная оценка качества сна в диапазоне от 1 до 10.\n",
        "*   Уровень физической активности (минут/день) (Physical Activity Level ): количество минут, в течение которых человек ежедневно занимается физической активностью.\n",
        "\n",
        "\n",
        "*   Уровень стресса (шкала: 1–10) (Stress Level ): субъективная оценка уровня стресса, испытываемого человеком, в диапазоне от 1 до 10.\n",
        "\n",
        "*   Категория ИМТ (BMI Category): категория ИМТ человека (например, недостаточный вес, нормальный, избыточный вес).\n",
        "\n",
        "\n",
        "*   Кровяное давление (систолическое/диастолическое): измерение артериального давления человека, обозначаемое как превышение систолического давления над диастолическим давлением.\n",
        "\n",
        "\n",
        "\n",
        "*   Кровяное давление (систолическое/диастолическое) (Blood Pressure): измерение артериального давления человека, обозначаемое как превышение систолического давления над диастолическим давлением.\n",
        "\n",
        "*   Частота сердечных сокращений (уд/мин) (Heart Rate ): частота сердечных сокращений человека в состоянии покоя в ударах в минуту.\n",
        "*   Ежедневные шаги (Daily Steps): количество шагов, которые человек делает за день.\n",
        "\n",
        "\n",
        "*   Расстройство сна (Sleep Disorder): наличие или отсутствие расстройств сна у человека (отсутствует, бессонница, апноэ во сне).\n",
        "\n",
        "\n",
        "\n"
      ]
    },
    {
      "cell_type": "markdown",
      "metadata": {
        "id": "2y0T8Go9p2ci"
      },
      "source": [
        "С помощью метода info была выведена информация о данных для просмотра типов данных и проверки, все ли типы данных удовлетворяют условию."
      ]
    },
    {
      "cell_type": "code",
      "execution_count": null,
      "metadata": {
        "colab": {
          "base_uri": "https://localhost:8080/"
        },
        "id": "fsslFItVp8uJ",
        "outputId": "6b3c6a8c-c919-47be-caa8-9bb77b09798b"
      },
      "outputs": [
        {
          "output_type": "stream",
          "name": "stdout",
          "text": [
            "<class 'pandas.core.frame.DataFrame'>\n",
            "RangeIndex: 374 entries, 0 to 373\n",
            "Data columns (total 13 columns):\n",
            " #   Column                   Non-Null Count  Dtype  \n",
            "---  ------                   --------------  -----  \n",
            " 0   Person ID                374 non-null    int64  \n",
            " 1   Gender                   374 non-null    object \n",
            " 2   Age                      374 non-null    int64  \n",
            " 3   Occupation               374 non-null    object \n",
            " 4   Sleep Duration           374 non-null    float64\n",
            " 5   Quality of Sleep         374 non-null    int64  \n",
            " 6   Physical Activity Level  374 non-null    int64  \n",
            " 7   Stress Level             374 non-null    int64  \n",
            " 8   BMI Category             374 non-null    object \n",
            " 9   Blood Pressure           374 non-null    object \n",
            " 10  Heart Rate               374 non-null    int64  \n",
            " 11  Daily Steps              374 non-null    int64  \n",
            " 12  Sleep Disorder           374 non-null    object \n",
            "dtypes: float64(1), int64(7), object(5)\n",
            "memory usage: 38.1+ KB\n"
          ]
        }
      ],
      "source": [
        "df.info()"
      ]
    },
    {
      "cell_type": "markdown",
      "metadata": {
        "id": "9RrNP_ccqFXD"
      },
      "source": [
        "Все типы данных корректны для своих атрибутов."
      ]
    },
    {
      "cell_type": "markdown",
      "metadata": {
        "id": "JnbYH7YtqQyv"
      },
      "source": [
        "Была проведена проверка на строки с пропусками."
      ]
    },
    {
      "cell_type": "code",
      "execution_count": null,
      "metadata": {
        "colab": {
          "base_uri": "https://localhost:8080/"
        },
        "id": "lZmf5tsCqTtX",
        "outputId": "d4ffc3ef-6da5-44d2-da2b-741894776b17"
      },
      "outputs": [
        {
          "output_type": "execute_result",
          "data": {
            "text/plain": [
              "Person ID                  0\n",
              "Gender                     0\n",
              "Age                        0\n",
              "Occupation                 0\n",
              "Sleep Duration             0\n",
              "Quality of Sleep           0\n",
              "Physical Activity Level    0\n",
              "Stress Level               0\n",
              "BMI Category               0\n",
              "Blood Pressure             0\n",
              "Heart Rate                 0\n",
              "Daily Steps                0\n",
              "Sleep Disorder             0\n",
              "dtype: int64"
            ]
          },
          "metadata": {},
          "execution_count": 57
        }
      ],
      "source": [
        "df.isna().sum()"
      ]
    },
    {
      "cell_type": "markdown",
      "metadata": {
        "id": "7f8kRyMnqWC8"
      },
      "source": [
        "Строк с пропусками не обнаружено"
      ]
    },
    {
      "cell_type": "markdown",
      "metadata": {
        "id": "My8XigyaqmBp"
      },
      "source": [
        "Была получена информачия о количестве дубликатов"
      ]
    },
    {
      "cell_type": "code",
      "execution_count": null,
      "metadata": {
        "colab": {
          "base_uri": "https://localhost:8080/"
        },
        "id": "ILipdXaqqpD0",
        "outputId": "c4f3e072-41df-4cbd-f615-608df8ac62a0"
      },
      "outputs": [
        {
          "output_type": "execute_result",
          "data": {
            "text/plain": [
              "0"
            ]
          },
          "metadata": {},
          "execution_count": 58
        }
      ],
      "source": [
        "df.duplicated().sum()"
      ]
    },
    {
      "cell_type": "markdown",
      "metadata": {
        "id": "IMAlcpanv-SH"
      },
      "source": [
        "Для удобства был исключен столбец Person ID"
      ]
    },
    {
      "cell_type": "code",
      "execution_count": null,
      "metadata": {
        "id": "7eL3SaDUv326"
      },
      "outputs": [],
      "source": [
        "df = df.drop('Person ID', axis = 1)"
      ]
    },
    {
      "cell_type": "markdown",
      "metadata": {
        "id": "k0dnkHGGq1P4"
      },
      "source": [
        "С помощью метода unique() были проверены столбцы на наличие неявных дубликатов."
      ]
    },
    {
      "cell_type": "code",
      "execution_count": null,
      "metadata": {
        "colab": {
          "base_uri": "https://localhost:8080/"
        },
        "id": "SlYwCQanq5pr",
        "outputId": "7947031e-73f7-43fd-e3ad-0af7a0f22d11"
      },
      "outputs": [
        {
          "output_type": "execute_result",
          "data": {
            "text/plain": [
              "array(['Male', 'Female'], dtype=object)"
            ]
          },
          "metadata": {},
          "execution_count": 60
        }
      ],
      "source": [
        "df['Gender'].unique()"
      ]
    },
    {
      "cell_type": "code",
      "execution_count": null,
      "metadata": {
        "colab": {
          "base_uri": "https://localhost:8080/"
        },
        "id": "yfMZVVmMq9qN",
        "outputId": "c103bd54-b8d2-4969-dc8a-edd4e58b0bbd"
      },
      "outputs": [
        {
          "output_type": "execute_result",
          "data": {
            "text/plain": [
              "array(['Software Engineer', 'Doctor', 'Sales Representative', 'Teacher',\n",
              "       'Nurse', 'Engineer', 'Accountant', 'Scientist', 'Lawyer',\n",
              "       'Salesperson', 'Manager'], dtype=object)"
            ]
          },
          "metadata": {},
          "execution_count": 61
        }
      ],
      "source": [
        "df['Occupation'].unique()"
      ]
    },
    {
      "cell_type": "code",
      "execution_count": null,
      "metadata": {
        "colab": {
          "base_uri": "https://localhost:8080/"
        },
        "id": "WqJKLPOUrC3h",
        "outputId": "ea614956-687e-4a6f-cd63-90b49dfbe224"
      },
      "outputs": [
        {
          "output_type": "execute_result",
          "data": {
            "text/plain": [
              "array(['Overweight', 'Normal', 'Obese', 'Normal Weight'], dtype=object)"
            ]
          },
          "metadata": {},
          "execution_count": 62
        }
      ],
      "source": [
        "df['BMI Category'].unique()"
      ]
    },
    {
      "cell_type": "markdown",
      "metadata": {
        "id": "PiPzGnUfrLL0"
      },
      "source": [
        "В столбце BMI Category был обнаружен неявный дубликат. В данном случае Normal и Normal Weight означает одно и то же, а значит, одно можно заменить на другое."
      ]
    },
    {
      "cell_type": "code",
      "execution_count": null,
      "metadata": {
        "id": "nsbnqAp3rDaU"
      },
      "outputs": [],
      "source": [
        "df['BMI Category'] = df['BMI Category'].replace('Normal Weight','Normal')"
      ]
    },
    {
      "cell_type": "code",
      "execution_count": null,
      "metadata": {
        "colab": {
          "base_uri": "https://localhost:8080/"
        },
        "id": "6GojPylfrDjw",
        "outputId": "261db8cc-1837-4c24-8e38-123905a922a0"
      },
      "outputs": [
        {
          "output_type": "execute_result",
          "data": {
            "text/plain": [
              "array(['Overweight', 'Normal', 'Obese'], dtype=object)"
            ]
          },
          "metadata": {},
          "execution_count": 64
        }
      ],
      "source": [
        "df['BMI Category'].unique()"
      ]
    },
    {
      "cell_type": "code",
      "execution_count": null,
      "metadata": {
        "colab": {
          "base_uri": "https://localhost:8080/"
        },
        "id": "C-FCzLBoriZL",
        "outputId": "3c2463e6-5e17-4d70-afbe-0454abd0c91b"
      },
      "outputs": [
        {
          "output_type": "execute_result",
          "data": {
            "text/plain": [
              "array(['126/83', '125/80', '140/90', '120/80', '132/87', '130/86',\n",
              "       '117/76', '118/76', '128/85', '131/86', '128/84', '115/75',\n",
              "       '135/88', '129/84', '130/85', '115/78', '119/77', '121/79',\n",
              "       '125/82', '135/90', '122/80', '142/92', '140/95', '139/91',\n",
              "       '118/75'], dtype=object)"
            ]
          },
          "metadata": {},
          "execution_count": 65
        }
      ],
      "source": [
        "df['Blood Pressure'].unique()"
      ]
    },
    {
      "cell_type": "code",
      "execution_count": null,
      "metadata": {
        "colab": {
          "base_uri": "https://localhost:8080/"
        },
        "id": "J7q-6B7zrn_g",
        "outputId": "9e3d0549-236d-401c-e0af-f6d2742b832a"
      },
      "outputs": [
        {
          "output_type": "execute_result",
          "data": {
            "text/plain": [
              "array(['None', 'Sleep Apnea', 'Insomnia'], dtype=object)"
            ]
          },
          "metadata": {},
          "execution_count": 66
        }
      ],
      "source": [
        "df['Sleep Disorder'].unique()\n"
      ]
    },
    {
      "cell_type": "markdown",
      "source": [
        "Значения типа object были переведены в значения типа float для удобства работы и достоверности значений."
      ],
      "metadata": {
        "id": "uWUWB4xeEpny"
      }
    },
    {
      "cell_type": "code",
      "source": [
        "def divide_results(string):\n",
        "  values = string.split(\"/\")\n",
        "  result = int(values[0])/int(values[1])\n",
        "  return result\n",
        "df['Blood Pressure'] = df['Blood Pressure'].apply(divide_results)\n",
        "\n",
        "df.head(100)"
      ],
      "metadata": {
        "colab": {
          "base_uri": "https://localhost:8080/",
          "height": 424
        },
        "id": "754UXbFpYgN3",
        "outputId": "248c5194-bdf8-4424-cd56-c9870d005dcd"
      },
      "execution_count": null,
      "outputs": [
        {
          "output_type": "execute_result",
          "data": {
            "text/plain": [
              "    Gender  Age            Occupation  Sleep Duration  Quality of Sleep  \\\n",
              "0     Male   27     Software Engineer             6.1                 6   \n",
              "1     Male   28                Doctor             6.2                 6   \n",
              "2     Male   28                Doctor             6.2                 6   \n",
              "3     Male   28  Sales Representative             5.9                 4   \n",
              "4     Male   28  Sales Representative             5.9                 4   \n",
              "..     ...  ...                   ...             ...               ...   \n",
              "95  Female   36            Accountant             7.1                 8   \n",
              "96  Female   36            Accountant             7.2                 8   \n",
              "97  Female   36            Accountant             7.1                 8   \n",
              "98  Female   36               Teacher             7.1                 8   \n",
              "99  Female   36               Teacher             7.1                 8   \n",
              "\n",
              "    Physical Activity Level  Stress Level BMI Category  Blood Pressure  \\\n",
              "0                        42             6   Overweight        1.518072   \n",
              "1                        60             8       Normal        1.562500   \n",
              "2                        60             8       Normal        1.562500   \n",
              "3                        30             8        Obese        1.555556   \n",
              "4                        30             8        Obese        1.555556   \n",
              "..                      ...           ...          ...             ...   \n",
              "95                       60             4       Normal        1.533333   \n",
              "96                       60             4       Normal        1.533333   \n",
              "97                       60             4       Normal        1.533333   \n",
              "98                       60             4       Normal        1.533333   \n",
              "99                       60             4       Normal        1.533333   \n",
              "\n",
              "    Heart Rate  Daily Steps Sleep Disorder  \n",
              "0           77         4200           None  \n",
              "1           75        10000           None  \n",
              "2           75        10000           None  \n",
              "3           85         3000    Sleep Apnea  \n",
              "4           85         3000    Sleep Apnea  \n",
              "..         ...          ...            ...  \n",
              "95          68         7000           None  \n",
              "96          68         7000           None  \n",
              "97          68         7000           None  \n",
              "98          68         7000           None  \n",
              "99          68         7000           None  \n",
              "\n",
              "[100 rows x 12 columns]"
            ],
            "text/html": [
              "\n",
              "  <div id=\"df-fa4bf65d-4472-4a6a-bd3c-11685b95e95d\" class=\"colab-df-container\">\n",
              "    <div>\n",
              "<style scoped>\n",
              "    .dataframe tbody tr th:only-of-type {\n",
              "        vertical-align: middle;\n",
              "    }\n",
              "\n",
              "    .dataframe tbody tr th {\n",
              "        vertical-align: top;\n",
              "    }\n",
              "\n",
              "    .dataframe thead th {\n",
              "        text-align: right;\n",
              "    }\n",
              "</style>\n",
              "<table border=\"1\" class=\"dataframe\">\n",
              "  <thead>\n",
              "    <tr style=\"text-align: right;\">\n",
              "      <th></th>\n",
              "      <th>Gender</th>\n",
              "      <th>Age</th>\n",
              "      <th>Occupation</th>\n",
              "      <th>Sleep Duration</th>\n",
              "      <th>Quality of Sleep</th>\n",
              "      <th>Physical Activity Level</th>\n",
              "      <th>Stress Level</th>\n",
              "      <th>BMI Category</th>\n",
              "      <th>Blood Pressure</th>\n",
              "      <th>Heart Rate</th>\n",
              "      <th>Daily Steps</th>\n",
              "      <th>Sleep Disorder</th>\n",
              "    </tr>\n",
              "  </thead>\n",
              "  <tbody>\n",
              "    <tr>\n",
              "      <th>0</th>\n",
              "      <td>Male</td>\n",
              "      <td>27</td>\n",
              "      <td>Software Engineer</td>\n",
              "      <td>6.1</td>\n",
              "      <td>6</td>\n",
              "      <td>42</td>\n",
              "      <td>6</td>\n",
              "      <td>Overweight</td>\n",
              "      <td>1.518072</td>\n",
              "      <td>77</td>\n",
              "      <td>4200</td>\n",
              "      <td>None</td>\n",
              "    </tr>\n",
              "    <tr>\n",
              "      <th>1</th>\n",
              "      <td>Male</td>\n",
              "      <td>28</td>\n",
              "      <td>Doctor</td>\n",
              "      <td>6.2</td>\n",
              "      <td>6</td>\n",
              "      <td>60</td>\n",
              "      <td>8</td>\n",
              "      <td>Normal</td>\n",
              "      <td>1.562500</td>\n",
              "      <td>75</td>\n",
              "      <td>10000</td>\n",
              "      <td>None</td>\n",
              "    </tr>\n",
              "    <tr>\n",
              "      <th>2</th>\n",
              "      <td>Male</td>\n",
              "      <td>28</td>\n",
              "      <td>Doctor</td>\n",
              "      <td>6.2</td>\n",
              "      <td>6</td>\n",
              "      <td>60</td>\n",
              "      <td>8</td>\n",
              "      <td>Normal</td>\n",
              "      <td>1.562500</td>\n",
              "      <td>75</td>\n",
              "      <td>10000</td>\n",
              "      <td>None</td>\n",
              "    </tr>\n",
              "    <tr>\n",
              "      <th>3</th>\n",
              "      <td>Male</td>\n",
              "      <td>28</td>\n",
              "      <td>Sales Representative</td>\n",
              "      <td>5.9</td>\n",
              "      <td>4</td>\n",
              "      <td>30</td>\n",
              "      <td>8</td>\n",
              "      <td>Obese</td>\n",
              "      <td>1.555556</td>\n",
              "      <td>85</td>\n",
              "      <td>3000</td>\n",
              "      <td>Sleep Apnea</td>\n",
              "    </tr>\n",
              "    <tr>\n",
              "      <th>4</th>\n",
              "      <td>Male</td>\n",
              "      <td>28</td>\n",
              "      <td>Sales Representative</td>\n",
              "      <td>5.9</td>\n",
              "      <td>4</td>\n",
              "      <td>30</td>\n",
              "      <td>8</td>\n",
              "      <td>Obese</td>\n",
              "      <td>1.555556</td>\n",
              "      <td>85</td>\n",
              "      <td>3000</td>\n",
              "      <td>Sleep Apnea</td>\n",
              "    </tr>\n",
              "    <tr>\n",
              "      <th>...</th>\n",
              "      <td>...</td>\n",
              "      <td>...</td>\n",
              "      <td>...</td>\n",
              "      <td>...</td>\n",
              "      <td>...</td>\n",
              "      <td>...</td>\n",
              "      <td>...</td>\n",
              "      <td>...</td>\n",
              "      <td>...</td>\n",
              "      <td>...</td>\n",
              "      <td>...</td>\n",
              "      <td>...</td>\n",
              "    </tr>\n",
              "    <tr>\n",
              "      <th>95</th>\n",
              "      <td>Female</td>\n",
              "      <td>36</td>\n",
              "      <td>Accountant</td>\n",
              "      <td>7.1</td>\n",
              "      <td>8</td>\n",
              "      <td>60</td>\n",
              "      <td>4</td>\n",
              "      <td>Normal</td>\n",
              "      <td>1.533333</td>\n",
              "      <td>68</td>\n",
              "      <td>7000</td>\n",
              "      <td>None</td>\n",
              "    </tr>\n",
              "    <tr>\n",
              "      <th>96</th>\n",
              "      <td>Female</td>\n",
              "      <td>36</td>\n",
              "      <td>Accountant</td>\n",
              "      <td>7.2</td>\n",
              "      <td>8</td>\n",
              "      <td>60</td>\n",
              "      <td>4</td>\n",
              "      <td>Normal</td>\n",
              "      <td>1.533333</td>\n",
              "      <td>68</td>\n",
              "      <td>7000</td>\n",
              "      <td>None</td>\n",
              "    </tr>\n",
              "    <tr>\n",
              "      <th>97</th>\n",
              "      <td>Female</td>\n",
              "      <td>36</td>\n",
              "      <td>Accountant</td>\n",
              "      <td>7.1</td>\n",
              "      <td>8</td>\n",
              "      <td>60</td>\n",
              "      <td>4</td>\n",
              "      <td>Normal</td>\n",
              "      <td>1.533333</td>\n",
              "      <td>68</td>\n",
              "      <td>7000</td>\n",
              "      <td>None</td>\n",
              "    </tr>\n",
              "    <tr>\n",
              "      <th>98</th>\n",
              "      <td>Female</td>\n",
              "      <td>36</td>\n",
              "      <td>Teacher</td>\n",
              "      <td>7.1</td>\n",
              "      <td>8</td>\n",
              "      <td>60</td>\n",
              "      <td>4</td>\n",
              "      <td>Normal</td>\n",
              "      <td>1.533333</td>\n",
              "      <td>68</td>\n",
              "      <td>7000</td>\n",
              "      <td>None</td>\n",
              "    </tr>\n",
              "    <tr>\n",
              "      <th>99</th>\n",
              "      <td>Female</td>\n",
              "      <td>36</td>\n",
              "      <td>Teacher</td>\n",
              "      <td>7.1</td>\n",
              "      <td>8</td>\n",
              "      <td>60</td>\n",
              "      <td>4</td>\n",
              "      <td>Normal</td>\n",
              "      <td>1.533333</td>\n",
              "      <td>68</td>\n",
              "      <td>7000</td>\n",
              "      <td>None</td>\n",
              "    </tr>\n",
              "  </tbody>\n",
              "</table>\n",
              "<p>100 rows × 12 columns</p>\n",
              "</div>\n",
              "    <div class=\"colab-df-buttons\">\n",
              "\n",
              "  <div class=\"colab-df-container\">\n",
              "    <button class=\"colab-df-convert\" onclick=\"convertToInteractive('df-fa4bf65d-4472-4a6a-bd3c-11685b95e95d')\"\n",
              "            title=\"Convert this dataframe to an interactive table.\"\n",
              "            style=\"display:none;\">\n",
              "\n",
              "  <svg xmlns=\"http://www.w3.org/2000/svg\" height=\"24px\" viewBox=\"0 -960 960 960\">\n",
              "    <path d=\"M120-120v-720h720v720H120Zm60-500h600v-160H180v160Zm220 220h160v-160H400v160Zm0 220h160v-160H400v160ZM180-400h160v-160H180v160Zm440 0h160v-160H620v160ZM180-180h160v-160H180v160Zm440 0h160v-160H620v160Z\"/>\n",
              "  </svg>\n",
              "    </button>\n",
              "\n",
              "  <style>\n",
              "    .colab-df-container {\n",
              "      display:flex;\n",
              "      gap: 12px;\n",
              "    }\n",
              "\n",
              "    .colab-df-convert {\n",
              "      background-color: #E8F0FE;\n",
              "      border: none;\n",
              "      border-radius: 50%;\n",
              "      cursor: pointer;\n",
              "      display: none;\n",
              "      fill: #1967D2;\n",
              "      height: 32px;\n",
              "      padding: 0 0 0 0;\n",
              "      width: 32px;\n",
              "    }\n",
              "\n",
              "    .colab-df-convert:hover {\n",
              "      background-color: #E2EBFA;\n",
              "      box-shadow: 0px 1px 2px rgba(60, 64, 67, 0.3), 0px 1px 3px 1px rgba(60, 64, 67, 0.15);\n",
              "      fill: #174EA6;\n",
              "    }\n",
              "\n",
              "    .colab-df-buttons div {\n",
              "      margin-bottom: 4px;\n",
              "    }\n",
              "\n",
              "    [theme=dark] .colab-df-convert {\n",
              "      background-color: #3B4455;\n",
              "      fill: #D2E3FC;\n",
              "    }\n",
              "\n",
              "    [theme=dark] .colab-df-convert:hover {\n",
              "      background-color: #434B5C;\n",
              "      box-shadow: 0px 1px 3px 1px rgba(0, 0, 0, 0.15);\n",
              "      filter: drop-shadow(0px 1px 2px rgba(0, 0, 0, 0.3));\n",
              "      fill: #FFFFFF;\n",
              "    }\n",
              "  </style>\n",
              "\n",
              "    <script>\n",
              "      const buttonEl =\n",
              "        document.querySelector('#df-fa4bf65d-4472-4a6a-bd3c-11685b95e95d button.colab-df-convert');\n",
              "      buttonEl.style.display =\n",
              "        google.colab.kernel.accessAllowed ? 'block' : 'none';\n",
              "\n",
              "      async function convertToInteractive(key) {\n",
              "        const element = document.querySelector('#df-fa4bf65d-4472-4a6a-bd3c-11685b95e95d');\n",
              "        const dataTable =\n",
              "          await google.colab.kernel.invokeFunction('convertToInteractive',\n",
              "                                                    [key], {});\n",
              "        if (!dataTable) return;\n",
              "\n",
              "        const docLinkHtml = 'Like what you see? Visit the ' +\n",
              "          '<a target=\"_blank\" href=https://colab.research.google.com/notebooks/data_table.ipynb>data table notebook</a>'\n",
              "          + ' to learn more about interactive tables.';\n",
              "        element.innerHTML = '';\n",
              "        dataTable['output_type'] = 'display_data';\n",
              "        await google.colab.output.renderOutput(dataTable, element);\n",
              "        const docLink = document.createElement('div');\n",
              "        docLink.innerHTML = docLinkHtml;\n",
              "        element.appendChild(docLink);\n",
              "      }\n",
              "    </script>\n",
              "  </div>\n",
              "\n",
              "\n",
              "<div id=\"df-c5829b54-d993-485c-b4e4-980fe75c57e7\">\n",
              "  <button class=\"colab-df-quickchart\" onclick=\"quickchart('df-c5829b54-d993-485c-b4e4-980fe75c57e7')\"\n",
              "            title=\"Suggest charts\"\n",
              "            style=\"display:none;\">\n",
              "\n",
              "<svg xmlns=\"http://www.w3.org/2000/svg\" height=\"24px\"viewBox=\"0 0 24 24\"\n",
              "     width=\"24px\">\n",
              "    <g>\n",
              "        <path d=\"M19 3H5c-1.1 0-2 .9-2 2v14c0 1.1.9 2 2 2h14c1.1 0 2-.9 2-2V5c0-1.1-.9-2-2-2zM9 17H7v-7h2v7zm4 0h-2V7h2v10zm4 0h-2v-4h2v4z\"/>\n",
              "    </g>\n",
              "</svg>\n",
              "  </button>\n",
              "\n",
              "<style>\n",
              "  .colab-df-quickchart {\n",
              "      --bg-color: #E8F0FE;\n",
              "      --fill-color: #1967D2;\n",
              "      --hover-bg-color: #E2EBFA;\n",
              "      --hover-fill-color: #174EA6;\n",
              "      --disabled-fill-color: #AAA;\n",
              "      --disabled-bg-color: #DDD;\n",
              "  }\n",
              "\n",
              "  [theme=dark] .colab-df-quickchart {\n",
              "      --bg-color: #3B4455;\n",
              "      --fill-color: #D2E3FC;\n",
              "      --hover-bg-color: #434B5C;\n",
              "      --hover-fill-color: #FFFFFF;\n",
              "      --disabled-bg-color: #3B4455;\n",
              "      --disabled-fill-color: #666;\n",
              "  }\n",
              "\n",
              "  .colab-df-quickchart {\n",
              "    background-color: var(--bg-color);\n",
              "    border: none;\n",
              "    border-radius: 50%;\n",
              "    cursor: pointer;\n",
              "    display: none;\n",
              "    fill: var(--fill-color);\n",
              "    height: 32px;\n",
              "    padding: 0;\n",
              "    width: 32px;\n",
              "  }\n",
              "\n",
              "  .colab-df-quickchart:hover {\n",
              "    background-color: var(--hover-bg-color);\n",
              "    box-shadow: 0 1px 2px rgba(60, 64, 67, 0.3), 0 1px 3px 1px rgba(60, 64, 67, 0.15);\n",
              "    fill: var(--button-hover-fill-color);\n",
              "  }\n",
              "\n",
              "  .colab-df-quickchart-complete:disabled,\n",
              "  .colab-df-quickchart-complete:disabled:hover {\n",
              "    background-color: var(--disabled-bg-color);\n",
              "    fill: var(--disabled-fill-color);\n",
              "    box-shadow: none;\n",
              "  }\n",
              "\n",
              "  .colab-df-spinner {\n",
              "    border: 2px solid var(--fill-color);\n",
              "    border-color: transparent;\n",
              "    border-bottom-color: var(--fill-color);\n",
              "    animation:\n",
              "      spin 1s steps(1) infinite;\n",
              "  }\n",
              "\n",
              "  @keyframes spin {\n",
              "    0% {\n",
              "      border-color: transparent;\n",
              "      border-bottom-color: var(--fill-color);\n",
              "      border-left-color: var(--fill-color);\n",
              "    }\n",
              "    20% {\n",
              "      border-color: transparent;\n",
              "      border-left-color: var(--fill-color);\n",
              "      border-top-color: var(--fill-color);\n",
              "    }\n",
              "    30% {\n",
              "      border-color: transparent;\n",
              "      border-left-color: var(--fill-color);\n",
              "      border-top-color: var(--fill-color);\n",
              "      border-right-color: var(--fill-color);\n",
              "    }\n",
              "    40% {\n",
              "      border-color: transparent;\n",
              "      border-right-color: var(--fill-color);\n",
              "      border-top-color: var(--fill-color);\n",
              "    }\n",
              "    60% {\n",
              "      border-color: transparent;\n",
              "      border-right-color: var(--fill-color);\n",
              "    }\n",
              "    80% {\n",
              "      border-color: transparent;\n",
              "      border-right-color: var(--fill-color);\n",
              "      border-bottom-color: var(--fill-color);\n",
              "    }\n",
              "    90% {\n",
              "      border-color: transparent;\n",
              "      border-bottom-color: var(--fill-color);\n",
              "    }\n",
              "  }\n",
              "</style>\n",
              "\n",
              "  <script>\n",
              "    async function quickchart(key) {\n",
              "      const quickchartButtonEl =\n",
              "        document.querySelector('#' + key + ' button');\n",
              "      quickchartButtonEl.disabled = true;  // To prevent multiple clicks.\n",
              "      quickchartButtonEl.classList.add('colab-df-spinner');\n",
              "      try {\n",
              "        const charts = await google.colab.kernel.invokeFunction(\n",
              "            'suggestCharts', [key], {});\n",
              "      } catch (error) {\n",
              "        console.error('Error during call to suggestCharts:', error);\n",
              "      }\n",
              "      quickchartButtonEl.classList.remove('colab-df-spinner');\n",
              "      quickchartButtonEl.classList.add('colab-df-quickchart-complete');\n",
              "    }\n",
              "    (() => {\n",
              "      let quickchartButtonEl =\n",
              "        document.querySelector('#df-c5829b54-d993-485c-b4e4-980fe75c57e7 button');\n",
              "      quickchartButtonEl.style.display =\n",
              "        google.colab.kernel.accessAllowed ? 'block' : 'none';\n",
              "    })();\n",
              "  </script>\n",
              "</div>\n",
              "    </div>\n",
              "  </div>\n"
            ],
            "application/vnd.google.colaboratory.intrinsic+json": {
              "type": "dataframe",
              "variable_name": "df",
              "summary": "{\n  \"name\": \"df\",\n  \"rows\": 374,\n  \"fields\": [\n    {\n      \"column\": \"Gender\",\n      \"properties\": {\n        \"dtype\": \"category\",\n        \"num_unique_values\": 2,\n        \"samples\": [\n          \"Female\",\n          \"Male\"\n        ],\n        \"semantic_type\": \"\",\n        \"description\": \"\"\n      }\n    },\n    {\n      \"column\": \"Age\",\n      \"properties\": {\n        \"dtype\": \"number\",\n        \"std\": 8,\n        \"min\": 27,\n        \"max\": 59,\n        \"num_unique_values\": 31,\n        \"samples\": [\n          56,\n          42\n        ],\n        \"semantic_type\": \"\",\n        \"description\": \"\"\n      }\n    },\n    {\n      \"column\": \"Occupation\",\n      \"properties\": {\n        \"dtype\": \"category\",\n        \"num_unique_values\": 11,\n        \"samples\": [\n          \"Engineer\",\n          \"Software Engineer\"\n        ],\n        \"semantic_type\": \"\",\n        \"description\": \"\"\n      }\n    },\n    {\n      \"column\": \"Sleep Duration\",\n      \"properties\": {\n        \"dtype\": \"number\",\n        \"std\": 0.7956567308898189,\n        \"min\": 5.8,\n        \"max\": 8.5,\n        \"num_unique_values\": 27,\n        \"samples\": [\n          7.7,\n          5.8\n        ],\n        \"semantic_type\": \"\",\n        \"description\": \"\"\n      }\n    },\n    {\n      \"column\": \"Quality of Sleep\",\n      \"properties\": {\n        \"dtype\": \"number\",\n        \"std\": 1,\n        \"min\": 4,\n        \"max\": 9,\n        \"num_unique_values\": 6,\n        \"samples\": [\n          6,\n          4\n        ],\n        \"semantic_type\": \"\",\n        \"description\": \"\"\n      }\n    },\n    {\n      \"column\": \"Physical Activity Level\",\n      \"properties\": {\n        \"dtype\": \"number\",\n        \"std\": 20,\n        \"min\": 30,\n        \"max\": 90,\n        \"num_unique_values\": 16,\n        \"samples\": [\n          42,\n          60\n        ],\n        \"semantic_type\": \"\",\n        \"description\": \"\"\n      }\n    },\n    {\n      \"column\": \"Stress Level\",\n      \"properties\": {\n        \"dtype\": \"number\",\n        \"std\": 1,\n        \"min\": 3,\n        \"max\": 8,\n        \"num_unique_values\": 6,\n        \"samples\": [\n          6,\n          8\n        ],\n        \"semantic_type\": \"\",\n        \"description\": \"\"\n      }\n    },\n    {\n      \"column\": \"BMI Category\",\n      \"properties\": {\n        \"dtype\": \"category\",\n        \"num_unique_values\": 3,\n        \"samples\": [\n          \"Overweight\",\n          \"Normal\"\n        ],\n        \"semantic_type\": \"\",\n        \"description\": \"\"\n      }\n    },\n    {\n      \"column\": \"Blood Pressure\",\n      \"properties\": {\n        \"dtype\": \"number\",\n        \"std\": 0.029348858241852672,\n        \"min\": 1.4736842105263157,\n        \"max\": 1.5733333333333333,\n        \"num_unique_values\": 24,\n        \"samples\": [\n          1.5058823529411764,\n          1.5454545454545454\n        ],\n        \"semantic_type\": \"\",\n        \"description\": \"\"\n      }\n    },\n    {\n      \"column\": \"Heart Rate\",\n      \"properties\": {\n        \"dtype\": \"number\",\n        \"std\": 4,\n        \"min\": 65,\n        \"max\": 86,\n        \"num_unique_values\": 19,\n        \"samples\": [\n          77,\n          80\n        ],\n        \"semantic_type\": \"\",\n        \"description\": \"\"\n      }\n    },\n    {\n      \"column\": \"Daily Steps\",\n      \"properties\": {\n        \"dtype\": \"number\",\n        \"std\": 1617,\n        \"min\": 3000,\n        \"max\": 10000,\n        \"num_unique_values\": 20,\n        \"samples\": [\n          4200,\n          6200\n        ],\n        \"semantic_type\": \"\",\n        \"description\": \"\"\n      }\n    },\n    {\n      \"column\": \"Sleep Disorder\",\n      \"properties\": {\n        \"dtype\": \"category\",\n        \"num_unique_values\": 3,\n        \"samples\": [\n          \"None\",\n          \"Sleep Apnea\"\n        ],\n        \"semantic_type\": \"\",\n        \"description\": \"\"\n      }\n    }\n  ]\n}"
            }
          },
          "metadata": {},
          "execution_count": 67
        }
      ]
    },
    {
      "cell_type": "markdown",
      "metadata": {
        "id": "tp6sS3P0sMwj"
      },
      "source": [
        "Была проведена стандартизация данных с помощью Standard Scaler и Label Encoder, который присваивает каждому уникальному значению типа Object своё уникальное значение типа int64."
      ]
    },
    {
      "cell_type": "code",
      "execution_count": null,
      "metadata": {
        "id": "Jn1-v-Onsh6_"
      },
      "outputs": [],
      "source": [
        "df_for_scaling = df.select_dtypes(exclude=['object'])\n",
        "\n",
        "df_scaled_for = df\n",
        "\n",
        "label_encoder = LabelEncoder()\n",
        "for column in df_scaled_for.select_dtypes(include=['object']):\n",
        "  df_scaled_for[column] = label_encoder.fit_transform(df[column])\n",
        "\n",
        "scaler = StandardScaler()\n",
        "df_scaled_for = scaler.fit_transform(df_scaled_for)\n",
        "\n",
        "df_scaled = pd.DataFrame(df_scaled_for, columns = df.columns)\n"
      ]
    },
    {
      "cell_type": "markdown",
      "metadata": {
        "id": "G66XqPAI0TNl"
      },
      "source": [
        "Датафрейм был разбит на признаки и целевые признаки"
      ]
    },
    {
      "cell_type": "code",
      "execution_count": null,
      "metadata": {
        "id": "t3mNBwBz0S9j"
      },
      "outputs": [],
      "source": [
        "y = df['Quality of Sleep']\n",
        "x = df_scaled.drop('Quality of Sleep', axis = 1)\n"
      ]
    },
    {
      "cell_type": "markdown",
      "metadata": {
        "id": "tCQdbH860ust"
      },
      "source": []
    },
    {
      "cell_type": "markdown",
      "metadata": {
        "id": "9fPzrLER0TbU"
      },
      "source": [
        "Набор был разбит на обучающие и валидационные данные"
      ]
    },
    {
      "cell_type": "code",
      "execution_count": null,
      "metadata": {
        "id": "Es8MeIUAy-H5"
      },
      "outputs": [],
      "source": [
        "X_train,X_test,Y_train,Y_test = train_test_split(x, y, test_size = 0.25, random_state = 32)"
      ]
    },
    {
      "cell_type": "markdown",
      "metadata": {
        "id": "buBhLS4V0xIr"
      },
      "source": [
        "\n"
      ]
    },
    {
      "cell_type": "markdown",
      "metadata": {
        "id": "D8AKyznG03sG"
      },
      "source": [
        "Была создана последовательная модель с помощью Sequential, добавлены слои с помощью Dense. Было создано 3 модели, без скрытых слоёв, с одним скрытым слоем, с двумя скрытыми слоями, во всех слоях нет функции активации, на выходе - 1 нейрон."
      ]
    },
    {
      "cell_type": "code",
      "execution_count": null,
      "metadata": {
        "id": "gpRkPpbu6ecc"
      },
      "outputs": [],
      "source": [
        "model = Sequential()\n",
        "model.add(Dense(units=64,activation = 'relu', input_dim = 11)) # преобразует отрицательные значения в 0, положительные без изменений\n",
        "model.add(Dense(units = 1, activation = None))"
      ]
    },
    {
      "cell_type": "code",
      "execution_count": null,
      "metadata": {
        "id": "TsKbCcs003by"
      },
      "outputs": [],
      "source": [
        "model_1_layer = Sequential()\n",
        "model_1_layer.add(Dense(units=64,activation = 'relu', input_dim = 11))\n",
        "model_1_layer.add(Dense(units=32, activation = None)) # преобразует входные данныев диапозоне от 0 до 1\n",
        "model_1_layer.add(Dense(units = 1, activation = None))"
      ]
    },
    {
      "cell_type": "code",
      "execution_count": null,
      "metadata": {
        "id": "Sgn4Hl3m1xO6"
      },
      "outputs": [],
      "source": [
        "model_2_layer = Sequential()\n",
        "model_2_layer.add(Dense(units=64,activation = 'relu', input_dim = 11))\n",
        "model_2_layer.add(Dense(units=32, activation = None))\n",
        "model_2_layer.add(Dense(units=16, activation = None)) # преобразует вектора значений в вектор вероятностей (от 0 до 1), сумма всех значений - 1\n",
        "model_2_layer.add(Dense(units = 1, activation = None))"
      ]
    },
    {
      "cell_type": "markdown",
      "metadata": {
        "id": "pX9UYvb5AG_F"
      },
      "source": [
        "Был вызван метод summary для каждой из моделей"
      ]
    },
    {
      "cell_type": "code",
      "execution_count": null,
      "metadata": {
        "colab": {
          "base_uri": "https://localhost:8080/"
        },
        "id": "PYHo8cbGAKUU",
        "outputId": "6fe4f299-b148-4b47-fc42-9f4a7c195237"
      },
      "outputs": [
        {
          "output_type": "stream",
          "name": "stdout",
          "text": [
            "Model: \"sequential_3\"\n",
            "_________________________________________________________________\n",
            " Layer (type)                Output Shape              Param #   \n",
            "=================================================================\n",
            " dense_9 (Dense)             (None, 64)                768       \n",
            "                                                                 \n",
            " dense_10 (Dense)            (None, 1)                 65        \n",
            "                                                                 \n",
            "=================================================================\n",
            "Total params: 833 (3.25 KB)\n",
            "Trainable params: 833 (3.25 KB)\n",
            "Non-trainable params: 0 (0.00 Byte)\n",
            "_________________________________________________________________\n"
          ]
        }
      ],
      "source": [
        "model.summary()"
      ]
    },
    {
      "cell_type": "markdown",
      "metadata": {
        "id": "Fdzav1mnD089"
      },
      "source": [
        "В данном случае модель с двумя слоями (входной и выходной), в первом 64 нейрона, 11 элементов подаётся на вход каждого нейрона, кол-во обучаемых параметров равно произведению кол-ва нейронов в прошлом слое (в данном случае в этом) на размерность входа + кол-во нейронов в этом слое. Во втором слое один нейрон, кол-во параметров - 1*64 + 1,в столбце слоёв (Layer) указано, что каждый слой - полносвязный (Dense слой) (все входы связаны со всеми нейронами в слое), число после нижнего подчеркивания указывает на номер слоя в данной модели."
      ]
    },
    {
      "cell_type": "code",
      "execution_count": null,
      "metadata": {
        "colab": {
          "base_uri": "https://localhost:8080/"
        },
        "id": "_ImMEH0IANT6",
        "outputId": "96142be4-9f4a-4bbc-ac24-980800e50ae9"
      },
      "outputs": [
        {
          "output_type": "stream",
          "name": "stdout",
          "text": [
            "Model: \"sequential_4\"\n",
            "_________________________________________________________________\n",
            " Layer (type)                Output Shape              Param #   \n",
            "=================================================================\n",
            " dense_11 (Dense)            (None, 64)                768       \n",
            "                                                                 \n",
            " dense_12 (Dense)            (None, 32)                2080      \n",
            "                                                                 \n",
            " dense_13 (Dense)            (None, 1)                 33        \n",
            "                                                                 \n",
            "=================================================================\n",
            "Total params: 2881 (11.25 KB)\n",
            "Trainable params: 2881 (11.25 KB)\n",
            "Non-trainable params: 0 (0.00 Byte)\n",
            "_________________________________________________________________\n"
          ]
        }
      ],
      "source": [
        "model_1_layer.summary()"
      ]
    },
    {
      "cell_type": "markdown",
      "metadata": {
        "id": "fbmQpFfrEgHl"
      },
      "source": [
        "В данной модели три слоя. В первом 64 нейрона, во втором 32, в третьем 1, кол-во параметров вычисляется таким же методом, в столбце слоёв (Layer) указано, что каждый слой - полносвязный (Dense слой) (все входы связаны со всеми нейронами в слое), число после нижнего подчеркивания указывает на номер слоя в данной модели."
      ]
    },
    {
      "cell_type": "code",
      "execution_count": null,
      "metadata": {
        "colab": {
          "base_uri": "https://localhost:8080/"
        },
        "id": "eLciLEJAAP5y",
        "outputId": "41cf5ecb-d2a9-4ee4-c516-fca92fdfca09"
      },
      "outputs": [
        {
          "output_type": "stream",
          "name": "stdout",
          "text": [
            "Model: \"sequential_5\"\n",
            "_________________________________________________________________\n",
            " Layer (type)                Output Shape              Param #   \n",
            "=================================================================\n",
            " dense_14 (Dense)            (None, 64)                768       \n",
            "                                                                 \n",
            " dense_15 (Dense)            (None, 32)                2080      \n",
            "                                                                 \n",
            " dense_16 (Dense)            (None, 16)                528       \n",
            "                                                                 \n",
            " dense_17 (Dense)            (None, 1)                 17        \n",
            "                                                                 \n",
            "=================================================================\n",
            "Total params: 3393 (13.25 KB)\n",
            "Trainable params: 3393 (13.25 KB)\n",
            "Non-trainable params: 0 (0.00 Byte)\n",
            "_________________________________________________________________\n"
          ]
        }
      ],
      "source": [
        "model_2_layer.summary()"
      ]
    },
    {
      "cell_type": "markdown",
      "metadata": {
        "id": "d004zllPFS5u"
      },
      "source": [
        "В данной модели три слоя. В первом 64 нейрона, во втором 32, в третьем 16, в последнем - 1, кол-во параметров вычисляется таким же методом, в столбце слоёв (Layer) указано, что каждый слой - полносвязный (Dense слой) (все входы связаны со всеми нейронами в слое), число после нижнего подчеркивания указывает на номер слоя в данной модели."
      ]
    },
    {
      "cell_type": "markdown",
      "metadata": {
        "id": "46bqiBbwFYV-"
      },
      "source": [
        "Номера слоёв же идут последовательно по причине того, что каждому новому слою присваивается уникальный индекс в глобальном реестре слоев TensorFlow, что помогает избежать конфликтов при работе с несколькими моделями."
      ]
    },
    {
      "cell_type": "markdown",
      "metadata": {
        "id": "HtJiM8dtFo5v"
      },
      "source": []
    },
    {
      "cell_type": "markdown",
      "metadata": {
        "id": "CdxpDA-KFqdB"
      },
      "source": [
        "Были заданы разные параметры в compile для разных моделей. Это позволяет настроить процесс обучения, функция потерь loss определяет, как модель будет вычислять разницу между предсказанными и истинными значениями, оптимизатор определяет, как обновляются веса модели, метрики используются для мониторинга производительности модели. Optimizer определяет алгоритм по которому будет проводится обновление синапсов нейронов, SGD \"Stochastic Gradient Descent\" - классический вариант, который минимизирует потери на основе градиента, выбирая на каждой итерации обучающзие данные случайным образом."
      ]
    },
    {
      "cell_type": "code",
      "execution_count": null,
      "metadata": {
        "id": "Rppwd3qrFqz_"
      },
      "outputs": [],
      "source": [
        "model.compile(loss = \"mse\", optimizer = 'sgd',metrics = ['mae'])\n",
        "model_1_layer.compile(loss = \"mse\", optimizer = 'sgd',metrics = ['mae'])\n",
        "model_2_layer.compile(loss = \"mse\", optimizer = 'sgd',metrics = ['mae'])"
      ]
    },
    {
      "cell_type": "markdown",
      "metadata": {
        "id": "EFRM-fjXI8Ak"
      },
      "source": [
        "\n"
      ]
    },
    {
      "cell_type": "markdown",
      "metadata": {
        "id": "W5BxcTjjI-EQ"
      },
      "source": [
        "Модели были обучены с помощью fit"
      ]
    },
    {
      "cell_type": "code",
      "execution_count": null,
      "metadata": {
        "colab": {
          "base_uri": "https://localhost:8080/"
        },
        "id": "b9cfW0xcI_nf",
        "outputId": "b63307db-468e-458d-e674-924cfaef914e"
      },
      "outputs": [
        {
          "output_type": "stream",
          "name": "stdout",
          "text": [
            "Epoch 1/20\n",
            "21/21 [==============================] - 1s 11ms/step - loss: 14.8102 - mae: 2.9969 - val_loss: 1.6133 - val_mae: 1.0189\n",
            "Epoch 2/20\n",
            "21/21 [==============================] - 0s 4ms/step - loss: 1.1336 - mae: 0.7835 - val_loss: 0.9572 - val_mae: 0.7437\n",
            "Epoch 3/20\n",
            "21/21 [==============================] - 0s 4ms/step - loss: 0.7954 - mae: 0.6245 - val_loss: 0.7255 - val_mae: 0.5823\n",
            "Epoch 4/20\n",
            "21/21 [==============================] - 0s 4ms/step - loss: 0.5910 - mae: 0.5028 - val_loss: 0.5921 - val_mae: 0.5183\n",
            "Epoch 5/20\n",
            "21/21 [==============================] - 0s 3ms/step - loss: 0.4663 - mae: 0.4370 - val_loss: 0.4866 - val_mae: 0.4569\n",
            "Epoch 6/20\n",
            "21/21 [==============================] - 0s 4ms/step - loss: 0.3742 - mae: 0.3846 - val_loss: 0.4293 - val_mae: 0.4029\n",
            "Epoch 7/20\n",
            "21/21 [==============================] - 0s 4ms/step - loss: 0.3106 - mae: 0.3409 - val_loss: 0.3954 - val_mae: 0.3955\n",
            "Epoch 8/20\n",
            "21/21 [==============================] - 0s 4ms/step - loss: 0.2751 - mae: 0.3211 - val_loss: 0.3414 - val_mae: 0.3762\n",
            "Epoch 9/20\n",
            "21/21 [==============================] - 0s 3ms/step - loss: 0.2296 - mae: 0.2876 - val_loss: 0.3187 - val_mae: 0.3652\n",
            "Epoch 10/20\n",
            "21/21 [==============================] - 0s 3ms/step - loss: 0.1970 - mae: 0.2689 - val_loss: 0.2992 - val_mae: 0.3132\n",
            "Epoch 11/20\n",
            "21/21 [==============================] - 0s 3ms/step - loss: 0.1748 - mae: 0.2443 - val_loss: 0.2862 - val_mae: 0.3159\n",
            "Epoch 12/20\n",
            "21/21 [==============================] - 0s 4ms/step - loss: 0.1662 - mae: 0.2471 - val_loss: 0.2689 - val_mae: 0.2968\n",
            "Epoch 13/20\n",
            "21/21 [==============================] - 0s 4ms/step - loss: 0.1447 - mae: 0.2167 - val_loss: 0.2540 - val_mae: 0.3064\n",
            "Epoch 14/20\n",
            "21/21 [==============================] - 0s 4ms/step - loss: 0.1330 - mae: 0.2172 - val_loss: 0.2459 - val_mae: 0.2927\n",
            "Epoch 15/20\n",
            "21/21 [==============================] - 0s 4ms/step - loss: 0.1234 - mae: 0.2106 - val_loss: 0.2424 - val_mae: 0.2763\n",
            "Epoch 16/20\n",
            "21/21 [==============================] - 0s 3ms/step - loss: 0.1133 - mae: 0.1986 - val_loss: 0.2299 - val_mae: 0.2720\n",
            "Epoch 17/20\n",
            "21/21 [==============================] - 0s 3ms/step - loss: 0.1055 - mae: 0.1916 - val_loss: 0.2214 - val_mae: 0.2649\n",
            "Epoch 18/20\n",
            "21/21 [==============================] - 0s 4ms/step - loss: 0.1012 - mae: 0.1933 - val_loss: 0.2211 - val_mae: 0.2558\n",
            "Epoch 19/20\n",
            "21/21 [==============================] - 0s 4ms/step - loss: 0.0919 - mae: 0.1819 - val_loss: 0.2124 - val_mae: 0.2562\n",
            "Epoch 20/20\n",
            "21/21 [==============================] - 0s 4ms/step - loss: 0.0881 - mae: 0.1770 - val_loss: 0.2127 - val_mae: 0.2618\n"
          ]
        }
      ],
      "source": [
        "history = model.fit(X_train, Y_train, epochs = 20, batch_size = 10, validation_split = 0.25) # batch_size - размер группы данных, после которойо происходит пересчёт синапсов нейоронов (обновление градиента)\n"
      ]
    },
    {
      "cell_type": "markdown",
      "metadata": {
        "id": "Z7YMJDfhOxj5"
      },
      "source": [
        "По данным значениям loss и mse можно сделать вывод, что модель без скрытого слоя нейронов достигает хороших результатов за 20 эпох обучения."
      ]
    },
    {
      "cell_type": "code",
      "execution_count": null,
      "metadata": {
        "colab": {
          "base_uri": "https://localhost:8080/"
        },
        "id": "DEZTz-fNOpQI",
        "outputId": "e9205a58-8f45-4e9d-e5d1-b9ae1e763a5d"
      },
      "outputs": [
        {
          "output_type": "stream",
          "name": "stdout",
          "text": [
            "Epoch 1/20\n",
            "7/7 [==============================] - 1s 34ms/step - loss: 18.5697 - mae: 3.4160 - val_loss: 1.3644 - val_mae: 0.8326\n",
            "Epoch 2/20\n",
            "7/7 [==============================] - 0s 7ms/step - loss: 1.1914 - mae: 0.7984 - val_loss: 0.9304 - val_mae: 0.6839\n",
            "Epoch 3/20\n",
            "7/7 [==============================] - 0s 7ms/step - loss: 0.7838 - mae: 0.6136 - val_loss: 0.7200 - val_mae: 0.5906\n",
            "Epoch 4/20\n",
            "7/7 [==============================] - 0s 8ms/step - loss: 0.6372 - mae: 0.5325 - val_loss: 0.6222 - val_mae: 0.5810\n",
            "Epoch 5/20\n",
            "7/7 [==============================] - 0s 7ms/step - loss: 0.5424 - mae: 0.4627 - val_loss: 0.5354 - val_mae: 0.4815\n",
            "Epoch 6/20\n",
            "7/7 [==============================] - 0s 10ms/step - loss: 0.4255 - mae: 0.3937 - val_loss: 0.5057 - val_mae: 0.5006\n",
            "Epoch 7/20\n",
            "7/7 [==============================] - 0s 10ms/step - loss: 0.3723 - mae: 0.3765 - val_loss: 0.4800 - val_mae: 0.4800\n",
            "Epoch 8/20\n",
            "7/7 [==============================] - 0s 7ms/step - loss: 0.3259 - mae: 0.3524 - val_loss: 0.4428 - val_mae: 0.4510\n",
            "Epoch 9/20\n",
            "7/7 [==============================] - 0s 10ms/step - loss: 0.2863 - mae: 0.3291 - val_loss: 0.3995 - val_mae: 0.3944\n",
            "Epoch 10/20\n",
            "7/7 [==============================] - 0s 10ms/step - loss: 0.2616 - mae: 0.3112 - val_loss: 0.3796 - val_mae: 0.3803\n",
            "Epoch 11/20\n",
            "7/7 [==============================] - 0s 11ms/step - loss: 0.2320 - mae: 0.2816 - val_loss: 0.3577 - val_mae: 0.3586\n",
            "Epoch 12/20\n",
            "7/7 [==============================] - 0s 7ms/step - loss: 0.2072 - mae: 0.2722 - val_loss: 0.3658 - val_mae: 0.3645\n",
            "Epoch 13/20\n",
            "7/7 [==============================] - 0s 8ms/step - loss: 0.1878 - mae: 0.2636 - val_loss: 0.3320 - val_mae: 0.3647\n",
            "Epoch 14/20\n",
            "7/7 [==============================] - 0s 7ms/step - loss: 0.1744 - mae: 0.2468 - val_loss: 0.3309 - val_mae: 0.3263\n",
            "Epoch 15/20\n",
            "7/7 [==============================] - 0s 7ms/step - loss: 0.1535 - mae: 0.2343 - val_loss: 0.3167 - val_mae: 0.3280\n",
            "Epoch 16/20\n",
            "7/7 [==============================] - 0s 9ms/step - loss: 0.1432 - mae: 0.2223 - val_loss: 0.3287 - val_mae: 0.3140\n",
            "Epoch 17/20\n",
            "7/7 [==============================] - 0s 10ms/step - loss: 0.1370 - mae: 0.2220 - val_loss: 0.3291 - val_mae: 0.3253\n",
            "Epoch 18/20\n",
            "7/7 [==============================] - 0s 10ms/step - loss: 0.1217 - mae: 0.2083 - val_loss: 0.3065 - val_mae: 0.3033\n",
            "Epoch 19/20\n",
            "7/7 [==============================] - 0s 8ms/step - loss: 0.1119 - mae: 0.1912 - val_loss: 0.3263 - val_mae: 0.3124\n",
            "Epoch 20/20\n",
            "7/7 [==============================] - 0s 7ms/step - loss: 0.1069 - mae: 0.1907 - val_loss: 0.3081 - val_mae: 0.3927\n"
          ]
        }
      ],
      "source": [
        "history_1_layer = model_1_layer.fit(X_train, Y_train, epochs = 20, batch_size = 32,validation_split = 0.25)\n"
      ]
    },
    {
      "cell_type": "markdown",
      "metadata": {
        "id": "u9UzMRi4PPiq"
      },
      "source": [
        "По данным значениям loss и mse можно сделать вывод, что модель с одним слоем скрытых нейронов может достигает высокой точности в предсказывании значений."
      ]
    },
    {
      "cell_type": "code",
      "execution_count": null,
      "metadata": {
        "colab": {
          "base_uri": "https://localhost:8080/"
        },
        "id": "bT9pOoyoOp8k",
        "outputId": "12b38859-af2f-4f60-a516-e1e8d200e02d"
      },
      "outputs": [
        {
          "output_type": "stream",
          "name": "stdout",
          "text": [
            "Epoch 1/20\n",
            "7/7 [==============================] - 1s 36ms/step - loss: 13.1892 - mae: 2.6709 - val_loss: 1.7658 - val_mae: 1.0563\n",
            "Epoch 2/20\n",
            "7/7 [==============================] - 0s 9ms/step - loss: 1.2521 - mae: 0.8974 - val_loss: 0.8655 - val_mae: 0.6713\n",
            "Epoch 3/20\n",
            "7/7 [==============================] - 0s 9ms/step - loss: 0.7317 - mae: 0.6300 - val_loss: 0.6797 - val_mae: 0.6618\n",
            "Epoch 4/20\n",
            "7/7 [==============================] - 0s 10ms/step - loss: 0.5974 - mae: 0.5761 - val_loss: 0.8356 - val_mae: 0.7140\n",
            "Epoch 5/20\n",
            "7/7 [==============================] - 0s 10ms/step - loss: 0.4743 - mae: 0.4810 - val_loss: 0.4498 - val_mae: 0.4216\n",
            "Epoch 6/20\n",
            "7/7 [==============================] - 0s 7ms/step - loss: 0.3363 - mae: 0.3927 - val_loss: 0.3942 - val_mae: 0.4267\n",
            "Epoch 7/20\n",
            "7/7 [==============================] - 0s 8ms/step - loss: 0.3081 - mae: 0.3953 - val_loss: 0.3654 - val_mae: 0.4266\n",
            "Epoch 8/20\n",
            "7/7 [==============================] - 0s 8ms/step - loss: 0.3142 - mae: 0.4116 - val_loss: 0.3520 - val_mae: 0.3664\n",
            "Epoch 9/20\n",
            "7/7 [==============================] - 0s 10ms/step - loss: 0.2106 - mae: 0.3025 - val_loss: 0.3209 - val_mae: 0.3592\n",
            "Epoch 10/20\n",
            "7/7 [==============================] - 0s 10ms/step - loss: 0.2550 - mae: 0.3869 - val_loss: 0.3661 - val_mae: 0.4587\n",
            "Epoch 11/20\n",
            "7/7 [==============================] - 0s 10ms/step - loss: 0.1974 - mae: 0.3284 - val_loss: 0.2670 - val_mae: 0.3062\n",
            "Epoch 12/20\n",
            "7/7 [==============================] - 0s 11ms/step - loss: 0.1631 - mae: 0.2760 - val_loss: 0.2583 - val_mae: 0.3051\n",
            "Epoch 13/20\n",
            "7/7 [==============================] - 0s 10ms/step - loss: 0.1243 - mae: 0.2293 - val_loss: 0.2465 - val_mae: 0.3178\n",
            "Epoch 14/20\n",
            "7/7 [==============================] - 0s 10ms/step - loss: 0.1194 - mae: 0.2246 - val_loss: 0.2693 - val_mae: 0.3516\n",
            "Epoch 15/20\n",
            "7/7 [==============================] - 0s 10ms/step - loss: 0.1193 - mae: 0.2359 - val_loss: 0.2414 - val_mae: 0.3021\n",
            "Epoch 16/20\n",
            "7/7 [==============================] - 0s 12ms/step - loss: 0.1058 - mae: 0.2217 - val_loss: 0.2305 - val_mae: 0.2669\n",
            "Epoch 17/20\n",
            "7/7 [==============================] - 0s 10ms/step - loss: 0.0873 - mae: 0.1946 - val_loss: 0.2183 - val_mae: 0.2717\n",
            "Epoch 18/20\n",
            "7/7 [==============================] - 0s 8ms/step - loss: 0.0915 - mae: 0.2024 - val_loss: 0.2332 - val_mae: 0.3199\n",
            "Epoch 19/20\n",
            "7/7 [==============================] - 0s 7ms/step - loss: 0.0904 - mae: 0.2010 - val_loss: 0.2161 - val_mae: 0.2798\n",
            "Epoch 20/20\n",
            "7/7 [==============================] - 0s 10ms/step - loss: 0.0810 - mae: 0.1946 - val_loss: 0.2140 - val_mae: 0.2767\n"
          ]
        }
      ],
      "source": [
        "history_2_layer = model_2_layer.fit(X_train, Y_train, epochs = 20, batch_size = 32,validation_split = 0.25)\n"
      ]
    },
    {
      "cell_type": "markdown",
      "metadata": {
        "id": "1V1sYHl6PQkR"
      },
      "source": [
        "По данным значениям loss и mse можно сделать вывод, что модель с двумя слоями скрытых нейронов может достигать высокой точности в предсказывании значений, однако немного хуже, чем модель с одним слоем скрытых нейронов"
      ]
    },
    {
      "cell_type": "markdown",
      "metadata": {
        "id": "GK1W4TxTQaZb"
      },
      "source": [
        "По результатам обучения группы моделей, которые отличаются кол-вом слоёв, можно сделать вывод, что вторая модель с одним скрытым слоем обучилась лучше всего."
      ]
    },
    {
      "cell_type": "markdown",
      "metadata": {
        "id": "6l2_zqhKN-UW"
      },
      "source": []
    },
    {
      "cell_type": "markdown",
      "metadata": {
        "id": "T6CZponTOAQq"
      },
      "source": [
        "Было выполнено предсказание на валидационных данных"
      ]
    },
    {
      "cell_type": "code",
      "execution_count": null,
      "metadata": {
        "colab": {
          "base_uri": "https://localhost:8080/"
        },
        "id": "fvnCfB5tODe5",
        "outputId": "0e3d3425-2260-4193-8953-c45e04a9f76a"
      },
      "outputs": [
        {
          "output_type": "stream",
          "name": "stdout",
          "text": [
            "3/3 [==============================] - 0s 4ms/step\n"
          ]
        },
        {
          "output_type": "stream",
          "name": "stderr",
          "text": [
            "WARNING:tensorflow:5 out of the last 13 calls to <function Model.make_predict_function.<locals>.predict_function at 0x7e160cb3da20> triggered tf.function retracing. Tracing is expensive and the excessive number of tracings could be due to (1) creating @tf.function repeatedly in a loop, (2) passing tensors with different shapes, (3) passing Python objects instead of tensors. For (1), please define your @tf.function outside of the loop. For (2), @tf.function has reduce_retracing=True option that can avoid unnecessary retracing. For (3), please refer to https://www.tensorflow.org/guide/function#controlling_retracing and https://www.tensorflow.org/api_docs/python/tf/function for  more details.\n"
          ]
        },
        {
          "output_type": "stream",
          "name": "stdout",
          "text": [
            "3/3 [==============================] - 0s 4ms/step\n"
          ]
        },
        {
          "output_type": "stream",
          "name": "stderr",
          "text": [
            "WARNING:tensorflow:5 out of the last 13 calls to <function Model.make_predict_function.<locals>.predict_function at 0x7e160cb3c820> triggered tf.function retracing. Tracing is expensive and the excessive number of tracings could be due to (1) creating @tf.function repeatedly in a loop, (2) passing tensors with different shapes, (3) passing Python objects instead of tensors. For (1), please define your @tf.function outside of the loop. For (2), @tf.function has reduce_retracing=True option that can avoid unnecessary retracing. For (3), please refer to https://www.tensorflow.org/guide/function#controlling_retracing and https://www.tensorflow.org/api_docs/python/tf/function for  more details.\n"
          ]
        },
        {
          "output_type": "stream",
          "name": "stdout",
          "text": [
            "3/3 [==============================] - 0s 4ms/step\n"
          ]
        }
      ],
      "source": [
        "preds = model.predict(X_test)\n",
        "preds_1_layer = model_1_layer.predict(X_test)\n",
        "preds_2_layer = model_2_layer.predict(X_test)"
      ]
    },
    {
      "cell_type": "markdown",
      "metadata": {
        "id": "RoQGVDvDTPHJ"
      },
      "source": []
    },
    {
      "cell_type": "markdown",
      "metadata": {
        "id": "oVgO85lITQe-"
      },
      "source": [
        "Был создан датафрейм с истинными и предсказанными значениями"
      ]
    },
    {
      "cell_type": "code",
      "execution_count": null,
      "metadata": {
        "id": "sb9jhU_pTT0Q"
      },
      "outputs": [],
      "source": [
        "df_preds = pd.DataFrame({\"Preds\":np.array(preds).flatten(),\n",
        "                         \"Actuals\":Y_test})\n",
        "df_preds_1_layer = pd.DataFrame({\"Preds\":np.array(preds_1_layer).flatten(),\n",
        "                         \"Actuals\":Y_test})\n",
        "df_preds_2_layer = pd.DataFrame({\"Preds\":np.array(preds_2_layer).flatten(),\n",
        "                         \"Actuals\":Y_test})\n"
      ]
    },
    {
      "cell_type": "code",
      "source": [
        "df_preds"
      ],
      "metadata": {
        "colab": {
          "base_uri": "https://localhost:8080/",
          "height": 424
        },
        "id": "ZZESMAf7-atn",
        "outputId": "2cbfd1f3-f5b4-4bba-d927-1b6495afa721"
      },
      "execution_count": null,
      "outputs": [
        {
          "output_type": "execute_result",
          "data": {
            "text/plain": [
              "        Preds  Actuals\n",
              "107  8.122943        8\n",
              "56   6.898339        7\n",
              "358  8.669772        9\n",
              "60   5.904675        6\n",
              "271  5.937769        6\n",
              "..        ...      ...\n",
              "134  7.802623        8\n",
              "3    5.373306        4\n",
              "344  9.142681        9\n",
              "63   6.023880        6\n",
              "367  9.129546        9\n",
              "\n",
              "[94 rows x 2 columns]"
            ],
            "text/html": [
              "\n",
              "  <div id=\"df-f9231798-3cbc-442a-9469-d5a54ea2265c\" class=\"colab-df-container\">\n",
              "    <div>\n",
              "<style scoped>\n",
              "    .dataframe tbody tr th:only-of-type {\n",
              "        vertical-align: middle;\n",
              "    }\n",
              "\n",
              "    .dataframe tbody tr th {\n",
              "        vertical-align: top;\n",
              "    }\n",
              "\n",
              "    .dataframe thead th {\n",
              "        text-align: right;\n",
              "    }\n",
              "</style>\n",
              "<table border=\"1\" class=\"dataframe\">\n",
              "  <thead>\n",
              "    <tr style=\"text-align: right;\">\n",
              "      <th></th>\n",
              "      <th>Preds</th>\n",
              "      <th>Actuals</th>\n",
              "    </tr>\n",
              "  </thead>\n",
              "  <tbody>\n",
              "    <tr>\n",
              "      <th>107</th>\n",
              "      <td>8.122943</td>\n",
              "      <td>8</td>\n",
              "    </tr>\n",
              "    <tr>\n",
              "      <th>56</th>\n",
              "      <td>6.898339</td>\n",
              "      <td>7</td>\n",
              "    </tr>\n",
              "    <tr>\n",
              "      <th>358</th>\n",
              "      <td>8.669772</td>\n",
              "      <td>9</td>\n",
              "    </tr>\n",
              "    <tr>\n",
              "      <th>60</th>\n",
              "      <td>5.904675</td>\n",
              "      <td>6</td>\n",
              "    </tr>\n",
              "    <tr>\n",
              "      <th>271</th>\n",
              "      <td>5.937769</td>\n",
              "      <td>6</td>\n",
              "    </tr>\n",
              "    <tr>\n",
              "      <th>...</th>\n",
              "      <td>...</td>\n",
              "      <td>...</td>\n",
              "    </tr>\n",
              "    <tr>\n",
              "      <th>134</th>\n",
              "      <td>7.802623</td>\n",
              "      <td>8</td>\n",
              "    </tr>\n",
              "    <tr>\n",
              "      <th>3</th>\n",
              "      <td>5.373306</td>\n",
              "      <td>4</td>\n",
              "    </tr>\n",
              "    <tr>\n",
              "      <th>344</th>\n",
              "      <td>9.142681</td>\n",
              "      <td>9</td>\n",
              "    </tr>\n",
              "    <tr>\n",
              "      <th>63</th>\n",
              "      <td>6.023880</td>\n",
              "      <td>6</td>\n",
              "    </tr>\n",
              "    <tr>\n",
              "      <th>367</th>\n",
              "      <td>9.129546</td>\n",
              "      <td>9</td>\n",
              "    </tr>\n",
              "  </tbody>\n",
              "</table>\n",
              "<p>94 rows × 2 columns</p>\n",
              "</div>\n",
              "    <div class=\"colab-df-buttons\">\n",
              "\n",
              "  <div class=\"colab-df-container\">\n",
              "    <button class=\"colab-df-convert\" onclick=\"convertToInteractive('df-f9231798-3cbc-442a-9469-d5a54ea2265c')\"\n",
              "            title=\"Convert this dataframe to an interactive table.\"\n",
              "            style=\"display:none;\">\n",
              "\n",
              "  <svg xmlns=\"http://www.w3.org/2000/svg\" height=\"24px\" viewBox=\"0 -960 960 960\">\n",
              "    <path d=\"M120-120v-720h720v720H120Zm60-500h600v-160H180v160Zm220 220h160v-160H400v160Zm0 220h160v-160H400v160ZM180-400h160v-160H180v160Zm440 0h160v-160H620v160ZM180-180h160v-160H180v160Zm440 0h160v-160H620v160Z\"/>\n",
              "  </svg>\n",
              "    </button>\n",
              "\n",
              "  <style>\n",
              "    .colab-df-container {\n",
              "      display:flex;\n",
              "      gap: 12px;\n",
              "    }\n",
              "\n",
              "    .colab-df-convert {\n",
              "      background-color: #E8F0FE;\n",
              "      border: none;\n",
              "      border-radius: 50%;\n",
              "      cursor: pointer;\n",
              "      display: none;\n",
              "      fill: #1967D2;\n",
              "      height: 32px;\n",
              "      padding: 0 0 0 0;\n",
              "      width: 32px;\n",
              "    }\n",
              "\n",
              "    .colab-df-convert:hover {\n",
              "      background-color: #E2EBFA;\n",
              "      box-shadow: 0px 1px 2px rgba(60, 64, 67, 0.3), 0px 1px 3px 1px rgba(60, 64, 67, 0.15);\n",
              "      fill: #174EA6;\n",
              "    }\n",
              "\n",
              "    .colab-df-buttons div {\n",
              "      margin-bottom: 4px;\n",
              "    }\n",
              "\n",
              "    [theme=dark] .colab-df-convert {\n",
              "      background-color: #3B4455;\n",
              "      fill: #D2E3FC;\n",
              "    }\n",
              "\n",
              "    [theme=dark] .colab-df-convert:hover {\n",
              "      background-color: #434B5C;\n",
              "      box-shadow: 0px 1px 3px 1px rgba(0, 0, 0, 0.15);\n",
              "      filter: drop-shadow(0px 1px 2px rgba(0, 0, 0, 0.3));\n",
              "      fill: #FFFFFF;\n",
              "    }\n",
              "  </style>\n",
              "\n",
              "    <script>\n",
              "      const buttonEl =\n",
              "        document.querySelector('#df-f9231798-3cbc-442a-9469-d5a54ea2265c button.colab-df-convert');\n",
              "      buttonEl.style.display =\n",
              "        google.colab.kernel.accessAllowed ? 'block' : 'none';\n",
              "\n",
              "      async function convertToInteractive(key) {\n",
              "        const element = document.querySelector('#df-f9231798-3cbc-442a-9469-d5a54ea2265c');\n",
              "        const dataTable =\n",
              "          await google.colab.kernel.invokeFunction('convertToInteractive',\n",
              "                                                    [key], {});\n",
              "        if (!dataTable) return;\n",
              "\n",
              "        const docLinkHtml = 'Like what you see? Visit the ' +\n",
              "          '<a target=\"_blank\" href=https://colab.research.google.com/notebooks/data_table.ipynb>data table notebook</a>'\n",
              "          + ' to learn more about interactive tables.';\n",
              "        element.innerHTML = '';\n",
              "        dataTable['output_type'] = 'display_data';\n",
              "        await google.colab.output.renderOutput(dataTable, element);\n",
              "        const docLink = document.createElement('div');\n",
              "        docLink.innerHTML = docLinkHtml;\n",
              "        element.appendChild(docLink);\n",
              "      }\n",
              "    </script>\n",
              "  </div>\n",
              "\n",
              "\n",
              "<div id=\"df-c7c06e59-6597-4877-bb58-8649b579866a\">\n",
              "  <button class=\"colab-df-quickchart\" onclick=\"quickchart('df-c7c06e59-6597-4877-bb58-8649b579866a')\"\n",
              "            title=\"Suggest charts\"\n",
              "            style=\"display:none;\">\n",
              "\n",
              "<svg xmlns=\"http://www.w3.org/2000/svg\" height=\"24px\"viewBox=\"0 0 24 24\"\n",
              "     width=\"24px\">\n",
              "    <g>\n",
              "        <path d=\"M19 3H5c-1.1 0-2 .9-2 2v14c0 1.1.9 2 2 2h14c1.1 0 2-.9 2-2V5c0-1.1-.9-2-2-2zM9 17H7v-7h2v7zm4 0h-2V7h2v10zm4 0h-2v-4h2v4z\"/>\n",
              "    </g>\n",
              "</svg>\n",
              "  </button>\n",
              "\n",
              "<style>\n",
              "  .colab-df-quickchart {\n",
              "      --bg-color: #E8F0FE;\n",
              "      --fill-color: #1967D2;\n",
              "      --hover-bg-color: #E2EBFA;\n",
              "      --hover-fill-color: #174EA6;\n",
              "      --disabled-fill-color: #AAA;\n",
              "      --disabled-bg-color: #DDD;\n",
              "  }\n",
              "\n",
              "  [theme=dark] .colab-df-quickchart {\n",
              "      --bg-color: #3B4455;\n",
              "      --fill-color: #D2E3FC;\n",
              "      --hover-bg-color: #434B5C;\n",
              "      --hover-fill-color: #FFFFFF;\n",
              "      --disabled-bg-color: #3B4455;\n",
              "      --disabled-fill-color: #666;\n",
              "  }\n",
              "\n",
              "  .colab-df-quickchart {\n",
              "    background-color: var(--bg-color);\n",
              "    border: none;\n",
              "    border-radius: 50%;\n",
              "    cursor: pointer;\n",
              "    display: none;\n",
              "    fill: var(--fill-color);\n",
              "    height: 32px;\n",
              "    padding: 0;\n",
              "    width: 32px;\n",
              "  }\n",
              "\n",
              "  .colab-df-quickchart:hover {\n",
              "    background-color: var(--hover-bg-color);\n",
              "    box-shadow: 0 1px 2px rgba(60, 64, 67, 0.3), 0 1px 3px 1px rgba(60, 64, 67, 0.15);\n",
              "    fill: var(--button-hover-fill-color);\n",
              "  }\n",
              "\n",
              "  .colab-df-quickchart-complete:disabled,\n",
              "  .colab-df-quickchart-complete:disabled:hover {\n",
              "    background-color: var(--disabled-bg-color);\n",
              "    fill: var(--disabled-fill-color);\n",
              "    box-shadow: none;\n",
              "  }\n",
              "\n",
              "  .colab-df-spinner {\n",
              "    border: 2px solid var(--fill-color);\n",
              "    border-color: transparent;\n",
              "    border-bottom-color: var(--fill-color);\n",
              "    animation:\n",
              "      spin 1s steps(1) infinite;\n",
              "  }\n",
              "\n",
              "  @keyframes spin {\n",
              "    0% {\n",
              "      border-color: transparent;\n",
              "      border-bottom-color: var(--fill-color);\n",
              "      border-left-color: var(--fill-color);\n",
              "    }\n",
              "    20% {\n",
              "      border-color: transparent;\n",
              "      border-left-color: var(--fill-color);\n",
              "      border-top-color: var(--fill-color);\n",
              "    }\n",
              "    30% {\n",
              "      border-color: transparent;\n",
              "      border-left-color: var(--fill-color);\n",
              "      border-top-color: var(--fill-color);\n",
              "      border-right-color: var(--fill-color);\n",
              "    }\n",
              "    40% {\n",
              "      border-color: transparent;\n",
              "      border-right-color: var(--fill-color);\n",
              "      border-top-color: var(--fill-color);\n",
              "    }\n",
              "    60% {\n",
              "      border-color: transparent;\n",
              "      border-right-color: var(--fill-color);\n",
              "    }\n",
              "    80% {\n",
              "      border-color: transparent;\n",
              "      border-right-color: var(--fill-color);\n",
              "      border-bottom-color: var(--fill-color);\n",
              "    }\n",
              "    90% {\n",
              "      border-color: transparent;\n",
              "      border-bottom-color: var(--fill-color);\n",
              "    }\n",
              "  }\n",
              "</style>\n",
              "\n",
              "  <script>\n",
              "    async function quickchart(key) {\n",
              "      const quickchartButtonEl =\n",
              "        document.querySelector('#' + key + ' button');\n",
              "      quickchartButtonEl.disabled = true;  // To prevent multiple clicks.\n",
              "      quickchartButtonEl.classList.add('colab-df-spinner');\n",
              "      try {\n",
              "        const charts = await google.colab.kernel.invokeFunction(\n",
              "            'suggestCharts', [key], {});\n",
              "      } catch (error) {\n",
              "        console.error('Error during call to suggestCharts:', error);\n",
              "      }\n",
              "      quickchartButtonEl.classList.remove('colab-df-spinner');\n",
              "      quickchartButtonEl.classList.add('colab-df-quickchart-complete');\n",
              "    }\n",
              "    (() => {\n",
              "      let quickchartButtonEl =\n",
              "        document.querySelector('#df-c7c06e59-6597-4877-bb58-8649b579866a button');\n",
              "      quickchartButtonEl.style.display =\n",
              "        google.colab.kernel.accessAllowed ? 'block' : 'none';\n",
              "    })();\n",
              "  </script>\n",
              "</div>\n",
              "    </div>\n",
              "  </div>\n"
            ],
            "application/vnd.google.colaboratory.intrinsic+json": {
              "type": "dataframe",
              "variable_name": "df_preds",
              "summary": "{\n  \"name\": \"df_preds\",\n  \"rows\": 94,\n  \"fields\": [\n    {\n      \"column\": \"Preds\",\n      \"properties\": {\n        \"dtype\": \"float32\",\n        \"num_unique_values\": 64,\n        \"samples\": [\n          5.862195014953613,\n          7.698021411895752,\n          8.122942924499512\n        ],\n        \"semantic_type\": \"\",\n        \"description\": \"\"\n      }\n    },\n    {\n      \"column\": \"Actuals\",\n      \"properties\": {\n        \"dtype\": \"number\",\n        \"std\": 1,\n        \"min\": 4,\n        \"max\": 9,\n        \"num_unique_values\": 6,\n        \"samples\": [\n          8,\n          7,\n          4\n        ],\n        \"semantic_type\": \"\",\n        \"description\": \"\"\n      }\n    }\n  ]\n}"
            }
          },
          "metadata": {},
          "execution_count": 83
        }
      ]
    },
    {
      "cell_type": "code",
      "source": [
        "df_preds_1_layer"
      ],
      "metadata": {
        "colab": {
          "base_uri": "https://localhost:8080/",
          "height": 424
        },
        "id": "IA2wc6_4-heC",
        "outputId": "56d3fdee-90a0-4e44-93ed-b263592a21e7"
      },
      "execution_count": null,
      "outputs": [
        {
          "output_type": "execute_result",
          "data": {
            "text/plain": [
              "        Preds  Actuals\n",
              "107  7.706711        8\n",
              "56   6.715694        7\n",
              "358  8.219441        9\n",
              "60   5.708961        6\n",
              "271  5.639708        6\n",
              "..        ...      ...\n",
              "134  7.447385        8\n",
              "3    5.504120        4\n",
              "344  8.963690        9\n",
              "63   5.721078        6\n",
              "367  8.869191        9\n",
              "\n",
              "[94 rows x 2 columns]"
            ],
            "text/html": [
              "\n",
              "  <div id=\"df-e8e02f02-ce2b-4b29-97de-388dc529b892\" class=\"colab-df-container\">\n",
              "    <div>\n",
              "<style scoped>\n",
              "    .dataframe tbody tr th:only-of-type {\n",
              "        vertical-align: middle;\n",
              "    }\n",
              "\n",
              "    .dataframe tbody tr th {\n",
              "        vertical-align: top;\n",
              "    }\n",
              "\n",
              "    .dataframe thead th {\n",
              "        text-align: right;\n",
              "    }\n",
              "</style>\n",
              "<table border=\"1\" class=\"dataframe\">\n",
              "  <thead>\n",
              "    <tr style=\"text-align: right;\">\n",
              "      <th></th>\n",
              "      <th>Preds</th>\n",
              "      <th>Actuals</th>\n",
              "    </tr>\n",
              "  </thead>\n",
              "  <tbody>\n",
              "    <tr>\n",
              "      <th>107</th>\n",
              "      <td>7.706711</td>\n",
              "      <td>8</td>\n",
              "    </tr>\n",
              "    <tr>\n",
              "      <th>56</th>\n",
              "      <td>6.715694</td>\n",
              "      <td>7</td>\n",
              "    </tr>\n",
              "    <tr>\n",
              "      <th>358</th>\n",
              "      <td>8.219441</td>\n",
              "      <td>9</td>\n",
              "    </tr>\n",
              "    <tr>\n",
              "      <th>60</th>\n",
              "      <td>5.708961</td>\n",
              "      <td>6</td>\n",
              "    </tr>\n",
              "    <tr>\n",
              "      <th>271</th>\n",
              "      <td>5.639708</td>\n",
              "      <td>6</td>\n",
              "    </tr>\n",
              "    <tr>\n",
              "      <th>...</th>\n",
              "      <td>...</td>\n",
              "      <td>...</td>\n",
              "    </tr>\n",
              "    <tr>\n",
              "      <th>134</th>\n",
              "      <td>7.447385</td>\n",
              "      <td>8</td>\n",
              "    </tr>\n",
              "    <tr>\n",
              "      <th>3</th>\n",
              "      <td>5.504120</td>\n",
              "      <td>4</td>\n",
              "    </tr>\n",
              "    <tr>\n",
              "      <th>344</th>\n",
              "      <td>8.963690</td>\n",
              "      <td>9</td>\n",
              "    </tr>\n",
              "    <tr>\n",
              "      <th>63</th>\n",
              "      <td>5.721078</td>\n",
              "      <td>6</td>\n",
              "    </tr>\n",
              "    <tr>\n",
              "      <th>367</th>\n",
              "      <td>8.869191</td>\n",
              "      <td>9</td>\n",
              "    </tr>\n",
              "  </tbody>\n",
              "</table>\n",
              "<p>94 rows × 2 columns</p>\n",
              "</div>\n",
              "    <div class=\"colab-df-buttons\">\n",
              "\n",
              "  <div class=\"colab-df-container\">\n",
              "    <button class=\"colab-df-convert\" onclick=\"convertToInteractive('df-e8e02f02-ce2b-4b29-97de-388dc529b892')\"\n",
              "            title=\"Convert this dataframe to an interactive table.\"\n",
              "            style=\"display:none;\">\n",
              "\n",
              "  <svg xmlns=\"http://www.w3.org/2000/svg\" height=\"24px\" viewBox=\"0 -960 960 960\">\n",
              "    <path d=\"M120-120v-720h720v720H120Zm60-500h600v-160H180v160Zm220 220h160v-160H400v160Zm0 220h160v-160H400v160ZM180-400h160v-160H180v160Zm440 0h160v-160H620v160ZM180-180h160v-160H180v160Zm440 0h160v-160H620v160Z\"/>\n",
              "  </svg>\n",
              "    </button>\n",
              "\n",
              "  <style>\n",
              "    .colab-df-container {\n",
              "      display:flex;\n",
              "      gap: 12px;\n",
              "    }\n",
              "\n",
              "    .colab-df-convert {\n",
              "      background-color: #E8F0FE;\n",
              "      border: none;\n",
              "      border-radius: 50%;\n",
              "      cursor: pointer;\n",
              "      display: none;\n",
              "      fill: #1967D2;\n",
              "      height: 32px;\n",
              "      padding: 0 0 0 0;\n",
              "      width: 32px;\n",
              "    }\n",
              "\n",
              "    .colab-df-convert:hover {\n",
              "      background-color: #E2EBFA;\n",
              "      box-shadow: 0px 1px 2px rgba(60, 64, 67, 0.3), 0px 1px 3px 1px rgba(60, 64, 67, 0.15);\n",
              "      fill: #174EA6;\n",
              "    }\n",
              "\n",
              "    .colab-df-buttons div {\n",
              "      margin-bottom: 4px;\n",
              "    }\n",
              "\n",
              "    [theme=dark] .colab-df-convert {\n",
              "      background-color: #3B4455;\n",
              "      fill: #D2E3FC;\n",
              "    }\n",
              "\n",
              "    [theme=dark] .colab-df-convert:hover {\n",
              "      background-color: #434B5C;\n",
              "      box-shadow: 0px 1px 3px 1px rgba(0, 0, 0, 0.15);\n",
              "      filter: drop-shadow(0px 1px 2px rgba(0, 0, 0, 0.3));\n",
              "      fill: #FFFFFF;\n",
              "    }\n",
              "  </style>\n",
              "\n",
              "    <script>\n",
              "      const buttonEl =\n",
              "        document.querySelector('#df-e8e02f02-ce2b-4b29-97de-388dc529b892 button.colab-df-convert');\n",
              "      buttonEl.style.display =\n",
              "        google.colab.kernel.accessAllowed ? 'block' : 'none';\n",
              "\n",
              "      async function convertToInteractive(key) {\n",
              "        const element = document.querySelector('#df-e8e02f02-ce2b-4b29-97de-388dc529b892');\n",
              "        const dataTable =\n",
              "          await google.colab.kernel.invokeFunction('convertToInteractive',\n",
              "                                                    [key], {});\n",
              "        if (!dataTable) return;\n",
              "\n",
              "        const docLinkHtml = 'Like what you see? Visit the ' +\n",
              "          '<a target=\"_blank\" href=https://colab.research.google.com/notebooks/data_table.ipynb>data table notebook</a>'\n",
              "          + ' to learn more about interactive tables.';\n",
              "        element.innerHTML = '';\n",
              "        dataTable['output_type'] = 'display_data';\n",
              "        await google.colab.output.renderOutput(dataTable, element);\n",
              "        const docLink = document.createElement('div');\n",
              "        docLink.innerHTML = docLinkHtml;\n",
              "        element.appendChild(docLink);\n",
              "      }\n",
              "    </script>\n",
              "  </div>\n",
              "\n",
              "\n",
              "<div id=\"df-5d11af6c-3036-49f6-b604-d806a6b112aa\">\n",
              "  <button class=\"colab-df-quickchart\" onclick=\"quickchart('df-5d11af6c-3036-49f6-b604-d806a6b112aa')\"\n",
              "            title=\"Suggest charts\"\n",
              "            style=\"display:none;\">\n",
              "\n",
              "<svg xmlns=\"http://www.w3.org/2000/svg\" height=\"24px\"viewBox=\"0 0 24 24\"\n",
              "     width=\"24px\">\n",
              "    <g>\n",
              "        <path d=\"M19 3H5c-1.1 0-2 .9-2 2v14c0 1.1.9 2 2 2h14c1.1 0 2-.9 2-2V5c0-1.1-.9-2-2-2zM9 17H7v-7h2v7zm4 0h-2V7h2v10zm4 0h-2v-4h2v4z\"/>\n",
              "    </g>\n",
              "</svg>\n",
              "  </button>\n",
              "\n",
              "<style>\n",
              "  .colab-df-quickchart {\n",
              "      --bg-color: #E8F0FE;\n",
              "      --fill-color: #1967D2;\n",
              "      --hover-bg-color: #E2EBFA;\n",
              "      --hover-fill-color: #174EA6;\n",
              "      --disabled-fill-color: #AAA;\n",
              "      --disabled-bg-color: #DDD;\n",
              "  }\n",
              "\n",
              "  [theme=dark] .colab-df-quickchart {\n",
              "      --bg-color: #3B4455;\n",
              "      --fill-color: #D2E3FC;\n",
              "      --hover-bg-color: #434B5C;\n",
              "      --hover-fill-color: #FFFFFF;\n",
              "      --disabled-bg-color: #3B4455;\n",
              "      --disabled-fill-color: #666;\n",
              "  }\n",
              "\n",
              "  .colab-df-quickchart {\n",
              "    background-color: var(--bg-color);\n",
              "    border: none;\n",
              "    border-radius: 50%;\n",
              "    cursor: pointer;\n",
              "    display: none;\n",
              "    fill: var(--fill-color);\n",
              "    height: 32px;\n",
              "    padding: 0;\n",
              "    width: 32px;\n",
              "  }\n",
              "\n",
              "  .colab-df-quickchart:hover {\n",
              "    background-color: var(--hover-bg-color);\n",
              "    box-shadow: 0 1px 2px rgba(60, 64, 67, 0.3), 0 1px 3px 1px rgba(60, 64, 67, 0.15);\n",
              "    fill: var(--button-hover-fill-color);\n",
              "  }\n",
              "\n",
              "  .colab-df-quickchart-complete:disabled,\n",
              "  .colab-df-quickchart-complete:disabled:hover {\n",
              "    background-color: var(--disabled-bg-color);\n",
              "    fill: var(--disabled-fill-color);\n",
              "    box-shadow: none;\n",
              "  }\n",
              "\n",
              "  .colab-df-spinner {\n",
              "    border: 2px solid var(--fill-color);\n",
              "    border-color: transparent;\n",
              "    border-bottom-color: var(--fill-color);\n",
              "    animation:\n",
              "      spin 1s steps(1) infinite;\n",
              "  }\n",
              "\n",
              "  @keyframes spin {\n",
              "    0% {\n",
              "      border-color: transparent;\n",
              "      border-bottom-color: var(--fill-color);\n",
              "      border-left-color: var(--fill-color);\n",
              "    }\n",
              "    20% {\n",
              "      border-color: transparent;\n",
              "      border-left-color: var(--fill-color);\n",
              "      border-top-color: var(--fill-color);\n",
              "    }\n",
              "    30% {\n",
              "      border-color: transparent;\n",
              "      border-left-color: var(--fill-color);\n",
              "      border-top-color: var(--fill-color);\n",
              "      border-right-color: var(--fill-color);\n",
              "    }\n",
              "    40% {\n",
              "      border-color: transparent;\n",
              "      border-right-color: var(--fill-color);\n",
              "      border-top-color: var(--fill-color);\n",
              "    }\n",
              "    60% {\n",
              "      border-color: transparent;\n",
              "      border-right-color: var(--fill-color);\n",
              "    }\n",
              "    80% {\n",
              "      border-color: transparent;\n",
              "      border-right-color: var(--fill-color);\n",
              "      border-bottom-color: var(--fill-color);\n",
              "    }\n",
              "    90% {\n",
              "      border-color: transparent;\n",
              "      border-bottom-color: var(--fill-color);\n",
              "    }\n",
              "  }\n",
              "</style>\n",
              "\n",
              "  <script>\n",
              "    async function quickchart(key) {\n",
              "      const quickchartButtonEl =\n",
              "        document.querySelector('#' + key + ' button');\n",
              "      quickchartButtonEl.disabled = true;  // To prevent multiple clicks.\n",
              "      quickchartButtonEl.classList.add('colab-df-spinner');\n",
              "      try {\n",
              "        const charts = await google.colab.kernel.invokeFunction(\n",
              "            'suggestCharts', [key], {});\n",
              "      } catch (error) {\n",
              "        console.error('Error during call to suggestCharts:', error);\n",
              "      }\n",
              "      quickchartButtonEl.classList.remove('colab-df-spinner');\n",
              "      quickchartButtonEl.classList.add('colab-df-quickchart-complete');\n",
              "    }\n",
              "    (() => {\n",
              "      let quickchartButtonEl =\n",
              "        document.querySelector('#df-5d11af6c-3036-49f6-b604-d806a6b112aa button');\n",
              "      quickchartButtonEl.style.display =\n",
              "        google.colab.kernel.accessAllowed ? 'block' : 'none';\n",
              "    })();\n",
              "  </script>\n",
              "</div>\n",
              "    </div>\n",
              "  </div>\n"
            ],
            "application/vnd.google.colaboratory.intrinsic+json": {
              "type": "dataframe",
              "variable_name": "df_preds_1_layer",
              "summary": "{\n  \"name\": \"df_preds_1_layer\",\n  \"rows\": 94,\n  \"fields\": [\n    {\n      \"column\": \"Preds\",\n      \"properties\": {\n        \"dtype\": \"float32\",\n        \"num_unique_values\": 66,\n        \"samples\": [\n          5.813825607299805,\n          7.447384834289551,\n          7.7067108154296875\n        ],\n        \"semantic_type\": \"\",\n        \"description\": \"\"\n      }\n    },\n    {\n      \"column\": \"Actuals\",\n      \"properties\": {\n        \"dtype\": \"number\",\n        \"std\": 1,\n        \"min\": 4,\n        \"max\": 9,\n        \"num_unique_values\": 6,\n        \"samples\": [\n          8,\n          7,\n          4\n        ],\n        \"semantic_type\": \"\",\n        \"description\": \"\"\n      }\n    }\n  ]\n}"
            }
          },
          "metadata": {},
          "execution_count": 84
        }
      ]
    },
    {
      "cell_type": "code",
      "source": [
        "df_preds_2_layer"
      ],
      "metadata": {
        "colab": {
          "base_uri": "https://localhost:8080/",
          "height": 424
        },
        "id": "voLqwadK-iSL",
        "outputId": "5ac7f460-d688-4b25-877a-aab9efca890c"
      },
      "execution_count": null,
      "outputs": [
        {
          "output_type": "execute_result",
          "data": {
            "text/plain": [
              "        Preds  Actuals\n",
              "107  7.580626        8\n",
              "56   6.886705        7\n",
              "358  8.567014        9\n",
              "60   5.807211        6\n",
              "271  5.991910        6\n",
              "..        ...      ...\n",
              "134  7.760655        8\n",
              "3    4.765265        4\n",
              "344  9.157308        9\n",
              "63   5.852030        6\n",
              "367  9.202115        9\n",
              "\n",
              "[94 rows x 2 columns]"
            ],
            "text/html": [
              "\n",
              "  <div id=\"df-c8d4924b-65ea-4595-8aee-a08850760872\" class=\"colab-df-container\">\n",
              "    <div>\n",
              "<style scoped>\n",
              "    .dataframe tbody tr th:only-of-type {\n",
              "        vertical-align: middle;\n",
              "    }\n",
              "\n",
              "    .dataframe tbody tr th {\n",
              "        vertical-align: top;\n",
              "    }\n",
              "\n",
              "    .dataframe thead th {\n",
              "        text-align: right;\n",
              "    }\n",
              "</style>\n",
              "<table border=\"1\" class=\"dataframe\">\n",
              "  <thead>\n",
              "    <tr style=\"text-align: right;\">\n",
              "      <th></th>\n",
              "      <th>Preds</th>\n",
              "      <th>Actuals</th>\n",
              "    </tr>\n",
              "  </thead>\n",
              "  <tbody>\n",
              "    <tr>\n",
              "      <th>107</th>\n",
              "      <td>7.580626</td>\n",
              "      <td>8</td>\n",
              "    </tr>\n",
              "    <tr>\n",
              "      <th>56</th>\n",
              "      <td>6.886705</td>\n",
              "      <td>7</td>\n",
              "    </tr>\n",
              "    <tr>\n",
              "      <th>358</th>\n",
              "      <td>8.567014</td>\n",
              "      <td>9</td>\n",
              "    </tr>\n",
              "    <tr>\n",
              "      <th>60</th>\n",
              "      <td>5.807211</td>\n",
              "      <td>6</td>\n",
              "    </tr>\n",
              "    <tr>\n",
              "      <th>271</th>\n",
              "      <td>5.991910</td>\n",
              "      <td>6</td>\n",
              "    </tr>\n",
              "    <tr>\n",
              "      <th>...</th>\n",
              "      <td>...</td>\n",
              "      <td>...</td>\n",
              "    </tr>\n",
              "    <tr>\n",
              "      <th>134</th>\n",
              "      <td>7.760655</td>\n",
              "      <td>8</td>\n",
              "    </tr>\n",
              "    <tr>\n",
              "      <th>3</th>\n",
              "      <td>4.765265</td>\n",
              "      <td>4</td>\n",
              "    </tr>\n",
              "    <tr>\n",
              "      <th>344</th>\n",
              "      <td>9.157308</td>\n",
              "      <td>9</td>\n",
              "    </tr>\n",
              "    <tr>\n",
              "      <th>63</th>\n",
              "      <td>5.852030</td>\n",
              "      <td>6</td>\n",
              "    </tr>\n",
              "    <tr>\n",
              "      <th>367</th>\n",
              "      <td>9.202115</td>\n",
              "      <td>9</td>\n",
              "    </tr>\n",
              "  </tbody>\n",
              "</table>\n",
              "<p>94 rows × 2 columns</p>\n",
              "</div>\n",
              "    <div class=\"colab-df-buttons\">\n",
              "\n",
              "  <div class=\"colab-df-container\">\n",
              "    <button class=\"colab-df-convert\" onclick=\"convertToInteractive('df-c8d4924b-65ea-4595-8aee-a08850760872')\"\n",
              "            title=\"Convert this dataframe to an interactive table.\"\n",
              "            style=\"display:none;\">\n",
              "\n",
              "  <svg xmlns=\"http://www.w3.org/2000/svg\" height=\"24px\" viewBox=\"0 -960 960 960\">\n",
              "    <path d=\"M120-120v-720h720v720H120Zm60-500h600v-160H180v160Zm220 220h160v-160H400v160Zm0 220h160v-160H400v160ZM180-400h160v-160H180v160Zm440 0h160v-160H620v160ZM180-180h160v-160H180v160Zm440 0h160v-160H620v160Z\"/>\n",
              "  </svg>\n",
              "    </button>\n",
              "\n",
              "  <style>\n",
              "    .colab-df-container {\n",
              "      display:flex;\n",
              "      gap: 12px;\n",
              "    }\n",
              "\n",
              "    .colab-df-convert {\n",
              "      background-color: #E8F0FE;\n",
              "      border: none;\n",
              "      border-radius: 50%;\n",
              "      cursor: pointer;\n",
              "      display: none;\n",
              "      fill: #1967D2;\n",
              "      height: 32px;\n",
              "      padding: 0 0 0 0;\n",
              "      width: 32px;\n",
              "    }\n",
              "\n",
              "    .colab-df-convert:hover {\n",
              "      background-color: #E2EBFA;\n",
              "      box-shadow: 0px 1px 2px rgba(60, 64, 67, 0.3), 0px 1px 3px 1px rgba(60, 64, 67, 0.15);\n",
              "      fill: #174EA6;\n",
              "    }\n",
              "\n",
              "    .colab-df-buttons div {\n",
              "      margin-bottom: 4px;\n",
              "    }\n",
              "\n",
              "    [theme=dark] .colab-df-convert {\n",
              "      background-color: #3B4455;\n",
              "      fill: #D2E3FC;\n",
              "    }\n",
              "\n",
              "    [theme=dark] .colab-df-convert:hover {\n",
              "      background-color: #434B5C;\n",
              "      box-shadow: 0px 1px 3px 1px rgba(0, 0, 0, 0.15);\n",
              "      filter: drop-shadow(0px 1px 2px rgba(0, 0, 0, 0.3));\n",
              "      fill: #FFFFFF;\n",
              "    }\n",
              "  </style>\n",
              "\n",
              "    <script>\n",
              "      const buttonEl =\n",
              "        document.querySelector('#df-c8d4924b-65ea-4595-8aee-a08850760872 button.colab-df-convert');\n",
              "      buttonEl.style.display =\n",
              "        google.colab.kernel.accessAllowed ? 'block' : 'none';\n",
              "\n",
              "      async function convertToInteractive(key) {\n",
              "        const element = document.querySelector('#df-c8d4924b-65ea-4595-8aee-a08850760872');\n",
              "        const dataTable =\n",
              "          await google.colab.kernel.invokeFunction('convertToInteractive',\n",
              "                                                    [key], {});\n",
              "        if (!dataTable) return;\n",
              "\n",
              "        const docLinkHtml = 'Like what you see? Visit the ' +\n",
              "          '<a target=\"_blank\" href=https://colab.research.google.com/notebooks/data_table.ipynb>data table notebook</a>'\n",
              "          + ' to learn more about interactive tables.';\n",
              "        element.innerHTML = '';\n",
              "        dataTable['output_type'] = 'display_data';\n",
              "        await google.colab.output.renderOutput(dataTable, element);\n",
              "        const docLink = document.createElement('div');\n",
              "        docLink.innerHTML = docLinkHtml;\n",
              "        element.appendChild(docLink);\n",
              "      }\n",
              "    </script>\n",
              "  </div>\n",
              "\n",
              "\n",
              "<div id=\"df-7fcaa548-da4d-4e9d-8ab4-5062b9343fc8\">\n",
              "  <button class=\"colab-df-quickchart\" onclick=\"quickchart('df-7fcaa548-da4d-4e9d-8ab4-5062b9343fc8')\"\n",
              "            title=\"Suggest charts\"\n",
              "            style=\"display:none;\">\n",
              "\n",
              "<svg xmlns=\"http://www.w3.org/2000/svg\" height=\"24px\"viewBox=\"0 0 24 24\"\n",
              "     width=\"24px\">\n",
              "    <g>\n",
              "        <path d=\"M19 3H5c-1.1 0-2 .9-2 2v14c0 1.1.9 2 2 2h14c1.1 0 2-.9 2-2V5c0-1.1-.9-2-2-2zM9 17H7v-7h2v7zm4 0h-2V7h2v10zm4 0h-2v-4h2v4z\"/>\n",
              "    </g>\n",
              "</svg>\n",
              "  </button>\n",
              "\n",
              "<style>\n",
              "  .colab-df-quickchart {\n",
              "      --bg-color: #E8F0FE;\n",
              "      --fill-color: #1967D2;\n",
              "      --hover-bg-color: #E2EBFA;\n",
              "      --hover-fill-color: #174EA6;\n",
              "      --disabled-fill-color: #AAA;\n",
              "      --disabled-bg-color: #DDD;\n",
              "  }\n",
              "\n",
              "  [theme=dark] .colab-df-quickchart {\n",
              "      --bg-color: #3B4455;\n",
              "      --fill-color: #D2E3FC;\n",
              "      --hover-bg-color: #434B5C;\n",
              "      --hover-fill-color: #FFFFFF;\n",
              "      --disabled-bg-color: #3B4455;\n",
              "      --disabled-fill-color: #666;\n",
              "  }\n",
              "\n",
              "  .colab-df-quickchart {\n",
              "    background-color: var(--bg-color);\n",
              "    border: none;\n",
              "    border-radius: 50%;\n",
              "    cursor: pointer;\n",
              "    display: none;\n",
              "    fill: var(--fill-color);\n",
              "    height: 32px;\n",
              "    padding: 0;\n",
              "    width: 32px;\n",
              "  }\n",
              "\n",
              "  .colab-df-quickchart:hover {\n",
              "    background-color: var(--hover-bg-color);\n",
              "    box-shadow: 0 1px 2px rgba(60, 64, 67, 0.3), 0 1px 3px 1px rgba(60, 64, 67, 0.15);\n",
              "    fill: var(--button-hover-fill-color);\n",
              "  }\n",
              "\n",
              "  .colab-df-quickchart-complete:disabled,\n",
              "  .colab-df-quickchart-complete:disabled:hover {\n",
              "    background-color: var(--disabled-bg-color);\n",
              "    fill: var(--disabled-fill-color);\n",
              "    box-shadow: none;\n",
              "  }\n",
              "\n",
              "  .colab-df-spinner {\n",
              "    border: 2px solid var(--fill-color);\n",
              "    border-color: transparent;\n",
              "    border-bottom-color: var(--fill-color);\n",
              "    animation:\n",
              "      spin 1s steps(1) infinite;\n",
              "  }\n",
              "\n",
              "  @keyframes spin {\n",
              "    0% {\n",
              "      border-color: transparent;\n",
              "      border-bottom-color: var(--fill-color);\n",
              "      border-left-color: var(--fill-color);\n",
              "    }\n",
              "    20% {\n",
              "      border-color: transparent;\n",
              "      border-left-color: var(--fill-color);\n",
              "      border-top-color: var(--fill-color);\n",
              "    }\n",
              "    30% {\n",
              "      border-color: transparent;\n",
              "      border-left-color: var(--fill-color);\n",
              "      border-top-color: var(--fill-color);\n",
              "      border-right-color: var(--fill-color);\n",
              "    }\n",
              "    40% {\n",
              "      border-color: transparent;\n",
              "      border-right-color: var(--fill-color);\n",
              "      border-top-color: var(--fill-color);\n",
              "    }\n",
              "    60% {\n",
              "      border-color: transparent;\n",
              "      border-right-color: var(--fill-color);\n",
              "    }\n",
              "    80% {\n",
              "      border-color: transparent;\n",
              "      border-right-color: var(--fill-color);\n",
              "      border-bottom-color: var(--fill-color);\n",
              "    }\n",
              "    90% {\n",
              "      border-color: transparent;\n",
              "      border-bottom-color: var(--fill-color);\n",
              "    }\n",
              "  }\n",
              "</style>\n",
              "\n",
              "  <script>\n",
              "    async function quickchart(key) {\n",
              "      const quickchartButtonEl =\n",
              "        document.querySelector('#' + key + ' button');\n",
              "      quickchartButtonEl.disabled = true;  // To prevent multiple clicks.\n",
              "      quickchartButtonEl.classList.add('colab-df-spinner');\n",
              "      try {\n",
              "        const charts = await google.colab.kernel.invokeFunction(\n",
              "            'suggestCharts', [key], {});\n",
              "      } catch (error) {\n",
              "        console.error('Error during call to suggestCharts:', error);\n",
              "      }\n",
              "      quickchartButtonEl.classList.remove('colab-df-spinner');\n",
              "      quickchartButtonEl.classList.add('colab-df-quickchart-complete');\n",
              "    }\n",
              "    (() => {\n",
              "      let quickchartButtonEl =\n",
              "        document.querySelector('#df-7fcaa548-da4d-4e9d-8ab4-5062b9343fc8 button');\n",
              "      quickchartButtonEl.style.display =\n",
              "        google.colab.kernel.accessAllowed ? 'block' : 'none';\n",
              "    })();\n",
              "  </script>\n",
              "</div>\n",
              "    </div>\n",
              "  </div>\n"
            ],
            "application/vnd.google.colaboratory.intrinsic+json": {
              "type": "dataframe",
              "variable_name": "df_preds_2_layer",
              "summary": "{\n  \"name\": \"df_preds_2_layer\",\n  \"rows\": 94,\n  \"fields\": [\n    {\n      \"column\": \"Preds\",\n      \"properties\": {\n        \"dtype\": \"float32\",\n        \"num_unique_values\": 64,\n        \"samples\": [\n          5.608589172363281,\n          7.833624362945557,\n          7.580626487731934\n        ],\n        \"semantic_type\": \"\",\n        \"description\": \"\"\n      }\n    },\n    {\n      \"column\": \"Actuals\",\n      \"properties\": {\n        \"dtype\": \"number\",\n        \"std\": 1,\n        \"min\": 4,\n        \"max\": 9,\n        \"num_unique_values\": 6,\n        \"samples\": [\n          8,\n          7,\n          4\n        ],\n        \"semantic_type\": \"\",\n        \"description\": \"\"\n      }\n    }\n  ]\n}"
            }
          },
          "metadata": {},
          "execution_count": 85
        }
      ]
    },
    {
      "cell_type": "markdown",
      "source": [
        "По значениям данных датафреймов, можно сказать, что модель достаточно точно предсказывает значения, однако подобная оценка не может быть достоверной, т.к. выводится лишь малая часть значений."
      ],
      "metadata": {
        "id": "WXATy5s_GwVY"
      }
    },
    {
      "cell_type": "markdown",
      "metadata": {
        "id": "HD5XZp3dT-6L"
      },
      "source": []
    },
    {
      "cell_type": "markdown",
      "source": [
        "Данные о предсказаниях были переформатированы для корректной работы."
      ],
      "metadata": {
        "id": "fTE0AjdP-kjK"
      }
    },
    {
      "cell_type": "code",
      "execution_count": null,
      "metadata": {
        "id": "Uqh2ZrBQXogq"
      },
      "outputs": [],
      "source": [
        "reshaped_preds = np.array(df_preds['Preds']).reshape(-1,1)\n",
        "reshaped_preds_1_layer = np.array(df_preds_1_layer['Preds']).reshape(-1,1)\n",
        "reshaper_preds_2_layer = np.array(df_preds_2_layer['Preds']).reshape(-1,1)"
      ]
    },
    {
      "cell_type": "markdown",
      "metadata": {
        "id": "5PwThy5jUBXJ"
      },
      "source": [
        "Был построен график правильных и предсказанных значений для каждой из моделей"
      ]
    },
    {
      "cell_type": "code",
      "execution_count": null,
      "metadata": {
        "colab": {
          "base_uri": "https://localhost:8080/",
          "height": 490
        },
        "id": "NOAWW8_FUE85",
        "outputId": "5f469343-1cfb-4fa2-edac-ee448b678c71"
      },
      "outputs": [
        {
          "output_type": "execute_result",
          "data": {
            "text/plain": [
              "<matplotlib.legend.Legend at 0x7e160e0eba90>"
            ]
          },
          "metadata": {},
          "execution_count": 87
        },
        {
          "output_type": "display_data",
          "data": {
            "text/plain": [
              "<Figure size 640x480 with 1 Axes>"
            ],
            "image/png": "[encoded data removed]"
          },
          "metadata": {}
        }
      ],
      "source": [
        "plt.scatter(df_preds['Actuals'],reshaped_preds, color = 'b', label = \"Values\")\n",
        "\n",
        "plt.plot([min(df_preds['Actuals']),max(df_preds['Actuals'])],[min(df_preds['Actuals']),max(df_preds['Actuals'])], color = 'r', label = \"Ideal\")\n",
        "plt.xlabel(\"Actual Values\")\n",
        "plt.ylabel(\"Predicted Values\")\n",
        "plt.grid()\n",
        "plt.title(\"График фактических и предсказанных значений\")\n",
        "plt.legend()"
      ]
    },
    {
      "cell_type": "markdown",
      "metadata": {
        "id": "1M3IIxEiXa91"
      },
      "source": [
        "По данному графику можно сделать вывод, что модель достаточно хорошо предсказывает значения, т.к. достаточное количество лежит близко к диагонали."
      ]
    },
    {
      "cell_type": "code",
      "execution_count": null,
      "metadata": {
        "colab": {
          "base_uri": "https://localhost:8080/",
          "height": 490
        },
        "id": "STWf2UHqWpEU",
        "outputId": "1d680f34-980e-4648-d9ef-0502d0f6cbd0"
      },
      "outputs": [
        {
          "output_type": "execute_result",
          "data": {
            "text/plain": [
              "<matplotlib.legend.Legend at 0x7e160d053b20>"
            ]
          },
          "metadata": {},
          "execution_count": 88
        },
        {
          "output_type": "display_data",
          "data": {
            "text/plain": [
              "<Figure size 640x480 with 1 Axes>"
            ],
            "image/png": "[encoded data removed]"
          },
          "metadata": {}
        }
      ],
      "source": [
        "plt.scatter(df_preds_1_layer['Actuals'],reshaped_preds_1_layer, color = 'b', label = \"Values\")\n",
        "\n",
        "plt.plot([min(df_preds_1_layer['Actuals']),max(df_preds_1_layer['Actuals'])],[min(df_preds_1_layer['Actuals']),max(df_preds_1_layer['Actuals'])], color = 'r', label = \"Ideal\")\n",
        "plt.xlabel(\"Actual Values\")\n",
        "plt.ylabel(\"Predicted Values\")\n",
        "plt.grid()\n",
        "plt.title(\"График фактических и предсказанных значений\")\n",
        "plt.legend()"
      ]
    },
    {
      "cell_type": "markdown",
      "metadata": {
        "id": "rFhjv62tY4fO"
      },
      "source": [
        "По данному графику можно сказать, что он предсказывает значения лучше, чем предыдущая модель"
      ]
    },
    {
      "cell_type": "code",
      "execution_count": null,
      "metadata": {
        "colab": {
          "base_uri": "https://localhost:8080/",
          "height": 490
        },
        "id": "uJxdtlWjY8UP",
        "outputId": "7c7f6f59-e73b-4564-fcc4-c0813cebdbf2"
      },
      "outputs": [
        {
          "output_type": "execute_result",
          "data": {
            "text/plain": [
              "<matplotlib.legend.Legend at 0x7e160d0f5de0>"
            ]
          },
          "metadata": {},
          "execution_count": 89
        },
        {
          "output_type": "display_data",
          "data": {
            "text/plain": [
              "<Figure size 640x480 with 1 Axes>"
            ],
            "image/png": "[encoded data removed]"
          },
          "metadata": {}
        }
      ],
      "source": [
        "plt.scatter(df_preds_2_layer['Actuals'],reshaper_preds_2_layer, color = 'b', label = \"Values\")\n",
        "\n",
        "plt.plot([min(df_preds_2_layer['Actuals']),max(df_preds_2_layer['Actuals'])],[min(df_preds_2_layer['Actuals']),max(df_preds_2_layer['Actuals'])], color = 'r', label = \"Ideal\")\n",
        "plt.xlabel(\"Actual Values\")\n",
        "plt.ylabel(\"Predicted Values\")\n",
        "plt.grid()\n",
        "plt.title(\"График фактических и предсказанных значений\")\n",
        "plt.legend()"
      ]
    },
    {
      "cell_type": "markdown",
      "metadata": {
        "id": "uTMnHbFUY88B"
      },
      "source": [
        "Судя по графику, можно сделать вывод, что данная модель предсказывает значения хуже всех из первой группы моделей."
      ]
    },
    {
      "cell_type": "markdown",
      "source": [
        "По данным графикам можно сделать вывод, что важное место в обучении модели играет правильно подобранные метрики и количество слоёв."
      ],
      "metadata": {
        "id": "S1PO5bVGTwXz"
      }
    },
    {
      "cell_type": "markdown",
      "metadata": {
        "id": "wcX7QjoabQq_"
      },
      "source": []
    },
    {
      "cell_type": "markdown",
      "metadata": {
        "id": "TArTwzCvml6p"
      },
      "source": [
        "Была получена история ошибок и метрик по эпохам для каждой модели."
      ]
    },
    {
      "cell_type": "code",
      "execution_count": null,
      "metadata": {
        "id": "ji4uuEw5bPIK"
      },
      "outputs": [],
      "source": [
        "loss_history = history.history['loss']\n",
        "metrics = history.history['mae']\n",
        "loss_history_val = history.history['val_loss']\n",
        "metrics_val = history.history['val_mae']"
      ]
    },
    {
      "cell_type": "markdown",
      "metadata": {
        "id": "bFbyyJM4m2ep"
      },
      "source": [
        "Были построены графики ошибок на обучающем и валидационном наборе по эпохам обучения"
      ]
    },
    {
      "cell_type": "code",
      "execution_count": null,
      "metadata": {
        "colab": {
          "base_uri": "https://localhost:8080/",
          "height": 449
        },
        "id": "mJpEzWNHm0vu",
        "outputId": "826c400d-ffa8-4e49-80fe-ee4ccabc1b11"
      },
      "outputs": [
        {
          "output_type": "display_data",
          "data": {
            "text/plain": [
              "<Figure size 640x480 with 1 Axes>"
            ],
            "image/png": "[encoded data removed]"
          },
          "metadata": {}
        }
      ],
      "source": [
        "plt.plot(np.arange(20),loss_history,  color = 'b', label = \"Losses on test\")\n",
        "plt.plot( np.arange(20),loss_history_val, color = 'r', label = \"Losses on valid\")\n",
        "plt.xlabel(\"Эпоха\")\n",
        "plt.ylabel(\"Значение ошибки\")\n",
        "plt.legend()\n",
        "plt.grid()\n",
        "plt.show()"
      ]
    },
    {
      "cell_type": "code",
      "source": [
        "plt.plot(np.arange(20),metrics,  color = 'b', label = \"metrics on test\")\n",
        "plt.plot( np.arange(20),metrics_val, color = 'r', label = \"metrics on valid\")\n",
        "plt.xlabel(\"Эпоха\")\n",
        "plt.ylabel(\"Значение метрики\")\n",
        "plt.legend()\n",
        "plt.grid()\n",
        "plt.show()"
      ],
      "metadata": {
        "id": "wDxer29SWeVE",
        "colab": {
          "base_uri": "https://localhost:8080/",
          "height": 449
        },
        "outputId": "d864600d-eb7e-42c0-ff51-c94ae9814802"
      },
      "execution_count": null,
      "outputs": [
        {
          "output_type": "display_data",
          "data": {
            "text/plain": [
              "<Figure size 640x480 with 1 Axes>"
            ],
            "image/png": "[encoded data removed]"
          },
          "metadata": {}
        }
      ]
    },
    {
      "cell_type": "markdown",
      "metadata": {
        "id": "294Q_VjXou6Z"
      },
      "source": [
        "По данному графику можно сделать вывод, что после пятой эпохи показатели метрик на валидационных данных стали хуже в сравнении с показателями на тестовых. Показатель ошибок тоже стал хуже после пятой эпохи, однако в меньшей степени."
      ]
    },
    {
      "cell_type": "code",
      "execution_count": null,
      "metadata": {
        "id": "p8P0ZIW8mWbJ"
      },
      "outputs": [],
      "source": [
        "loss_history_1_layer = history_1_layer.history['loss']\n",
        "metrics_1_layer = history_1_layer.history['mae']\n",
        "loss_history_1_layer_val = history_1_layer.history['val_loss']\n",
        "metrics_1_layer_val = history_1_layer.history['val_mae']"
      ]
    },
    {
      "cell_type": "code",
      "execution_count": null,
      "metadata": {
        "colab": {
          "base_uri": "https://localhost:8080/",
          "height": 449
        },
        "id": "WBBC1WSJo1cJ",
        "outputId": "4cd7d1ec-1b87-4095-b5cf-062cc4b38857"
      },
      "outputs": [
        {
          "output_type": "display_data",
          "data": {
            "text/plain": [
              "<Figure size 640x480 with 1 Axes>"
            ],
            "image/png": "[encoded data removed]"
          },
          "metadata": {}
        }
      ],
      "source": [
        "plt.plot(np.arange(20),loss_history_1_layer,  color = 'b', label = \"Losses on test\")\n",
        "plt.plot( np.arange(20),loss_history_1_layer_val, color = 'r', label = \"Losses on valid\")\n",
        "plt.xlabel(\"Эпоха\")\n",
        "plt.ylabel(\"Значение ошибки\")\n",
        "plt.legend()\n",
        "plt.grid()\n",
        "plt.show()"
      ]
    },
    {
      "cell_type": "code",
      "source": [
        "plt.plot(np.arange(20),metrics_1_layer,  color = 'b', label = \"metrics on test\")\n",
        "plt.plot( np.arange(20),metrics_1_layer_val, color = 'r', label = \"metrics on valid\")\n",
        "plt.xlabel(\"Эпоха\")\n",
        "plt.ylabel(\"Значение метрики\")\n",
        "plt.legend()\n",
        "plt.grid()\n",
        "plt.show()"
      ],
      "metadata": {
        "colab": {
          "base_uri": "https://localhost:8080/",
          "height": 449
        },
        "id": "aF3un_XLWlql",
        "outputId": "9bd44a63-6c48-4677-82a1-99dfca6d3cb7"
      },
      "execution_count": null,
      "outputs": [
        {
          "output_type": "display_data",
          "data": {
            "text/plain": [
              "<Figure size 640x480 with 1 Axes>"
            ],
            "image/png": "[encoded data removed]"
          },
          "metadata": {}
        }
      ]
    },
    {
      "cell_type": "markdown",
      "metadata": {
        "id": "4P7hIFSzo2bX"
      },
      "source": [
        "По данному графику можно сделать вывод, что после девятой эпохи показатель метрик на валидационных данных стал показывать значения хуже, чем показатели метрик на тестовых. Данная модель лучше обучается с каждой эпохой, чем первая. Потери на тестовых и валидационных данных достаточно близки после второй эпохи."
      ]
    },
    {
      "cell_type": "code",
      "execution_count": null,
      "metadata": {
        "id": "4sogg9uamY2l"
      },
      "outputs": [],
      "source": [
        "loss_history_2_layer = history_2_layer.history['loss']\n",
        "metrics_2_layer = history_2_layer.history['mae']\n",
        "loss_history_2_layer_val = history_2_layer.history['val_loss']\n",
        "metrics_2_layer_val = history_2_layer.history['val_mae']"
      ]
    },
    {
      "cell_type": "code",
      "execution_count": null,
      "metadata": {
        "colab": {
          "base_uri": "https://localhost:8080/",
          "height": 449
        },
        "id": "Weh0c-FBmaKK",
        "outputId": "7b75f4df-db91-45c4-99df-021c9133eed2"
      },
      "outputs": [
        {
          "output_type": "display_data",
          "data": {
            "text/plain": [
              "<Figure size 640x480 with 1 Axes>"
            ],
            "image/png": "[encoded data removed]"
          },
          "metadata": {}
        }
      ],
      "source": [
        "plt.plot( np.arange(20),loss_history_2_layer, color = 'b', label = \"Losses on test\")\n",
        "plt.plot(np.arange(20),loss_history_2_layer_val,  color = 'r', label = \"Losses on valid\")\n",
        "plt.xlabel(\"Эпоха\")\n",
        "plt.ylabel(\"Значение ошибки\")\n",
        "plt.legend()\n",
        "plt.grid()\n",
        "plt.show()"
      ]
    },
    {
      "cell_type": "code",
      "source": [
        "plt.plot(np.arange(20),metrics_2_layer,  color = 'b', label = \"metrics on test\")\n",
        "plt.plot( np.arange(20),metrics_2_layer_val, color = 'r', label = \"metrics on valid\")\n",
        "plt.xlabel(\"Эпоха\")\n",
        "plt.ylabel(\"Значение метрики\")\n",
        "plt.legend()\n",
        "plt.grid()\n",
        "plt.show()"
      ],
      "metadata": {
        "colab": {
          "base_uri": "https://localhost:8080/",
          "height": 449
        },
        "id": "KDuClspgWpsJ",
        "outputId": "0636fb58-8635-4cd9-b939-9fee9f404933"
      },
      "execution_count": null,
      "outputs": [
        {
          "output_type": "display_data",
          "data": {
            "text/plain": [
              "<Figure size 640x480 with 1 Axes>"
            ],
            "image/png": "[encoded data removed]"
          },
          "metadata": {}
        }
      ]
    },
    {
      "cell_type": "markdown",
      "metadata": {
        "id": "JY-QOdF6o6Zi"
      },
      "source": [
        "На данном графике значение ошибки примерно на том же уровне, что и у прошлых. Сами же значеня ошибок изначально ниже. Значения метрик же на тестовых данных лучше, чем на валидационных. График метрик на валидационных данных показывает худшие значения в сравнении с графиком на тестовых данных."
      ]
    },
    {
      "cell_type": "markdown",
      "metadata": {
        "id": "rueMVja512Rz"
      },
      "source": []
    },
    {
      "cell_type": "markdown",
      "metadata": {
        "id": "OPxlk-_b14mi"
      },
      "source": []
    },
    {
      "cell_type": "markdown",
      "metadata": {
        "id": "kSfgSNqh2eMB"
      },
      "source": [
        "Был загружен датасет, проведена предварительная обработка данных."
      ]
    },
    {
      "cell_type": "code",
      "execution_count": null,
      "metadata": {
        "id": "1WPQRaEh2ujW"
      },
      "outputs": [],
      "source": [
        "df = pd.read_csv(\"/content/5gym_churn.csv\")"
      ]
    },
    {
      "cell_type": "markdown",
      "metadata": {
        "id": "jT0BsNly2fkw"
      },
      "source": [
        "Была выведена информация о количестве нуль строк в датасете"
      ]
    },
    {
      "cell_type": "code",
      "execution_count": null,
      "metadata": {
        "colab": {
          "base_uri": "https://localhost:8080/"
        },
        "id": "6lYiwll313ff",
        "outputId": "fe2c174d-db1f-4885-cb77-617d2bb8e0ef"
      },
      "outputs": [
        {
          "output_type": "stream",
          "name": "stdout",
          "text": [
            "<class 'pandas.core.frame.DataFrame'>\n",
            "RangeIndex: 4000 entries, 0 to 3999\n",
            "Data columns (total 14 columns):\n",
            " #   Column                             Non-Null Count  Dtype  \n",
            "---  ------                             --------------  -----  \n",
            " 0   gender                             4000 non-null   int64  \n",
            " 1   Near_Location                      4000 non-null   int64  \n",
            " 2   Partner                            4000 non-null   int64  \n",
            " 3   Promo_friends                      4000 non-null   int64  \n",
            " 4   Phone                              4000 non-null   int64  \n",
            " 5   Contract_period                    4000 non-null   int64  \n",
            " 6   Group_visits                       4000 non-null   int64  \n",
            " 7   Age                                4000 non-null   int64  \n",
            " 8   Avg_additional_charges_total       4000 non-null   float64\n",
            " 9   Month_to_end_contract              4000 non-null   float64\n",
            " 10  Lifetime                           4000 non-null   int64  \n",
            " 11  Avg_class_frequency_total          4000 non-null   float64\n",
            " 12  Avg_class_frequency_current_month  4000 non-null   float64\n",
            " 13  Churn                              4000 non-null   int64  \n",
            "dtypes: float64(4), int64(10)\n",
            "memory usage: 437.6 KB\n"
          ]
        }
      ],
      "source": [
        "df.info()"
      ]
    },
    {
      "cell_type": "markdown",
      "metadata": {
        "id": "NcbI3azP2hxs"
      },
      "source": [
        "По результатам вывода была получена информация о том, что нуль строки отсутствуют, также можно сделать вывод о том, что в Month_to_end_contract неправильный тип данных (float64, хотя должен быть Int64)."
      ]
    },
    {
      "cell_type": "markdown",
      "metadata": {
        "id": "ZY49CrAr2ihX"
      },
      "source": [
        "Датасет содержит следующие данные:\n",
        "*   1 Gender - Пол\n",
        "\n",
        "*   2 Near_Location - Близкое расположение\n",
        "\n",
        "*   3 Partner - Сотрудник компании партнера\n",
        "\n",
        "*   4 Promo_friends - По промо друзей\n",
        "\n",
        "*   5 Phone -  Указан ли телефон\n",
        "\n",
        "*   6 Contract_period - Длительность текущего абонемента\n",
        "\n",
        "*   7 Group_visits - Посещение групповых занятий\n",
        "\n",
        "*   8 Age - Возраст\n",
        "\n",
        "*   9 Avg_additional_charges_total - Средние траты на дополнительные услуги\n",
        "\n",
        "*   10 Month_to_end_contract - Количество месяцев до окончания абонемента\n",
        "\n",
        "*   11 Lifetime - время с момента первого обращения в фитнесцентр (в месяцах)\n",
        "\n",
        "*   12 Avg_class_frequency_total - средняя частота посещений в неделю за все время с начала действия абонемента\n",
        "\n",
        "*   13 Month_to_end_contract - средняя частота посещений в неделю за предыдущий месяц\n",
        "\n",
        "*   14 Churn - факт ухода из клуба"
      ]
    },
    {
      "cell_type": "markdown",
      "metadata": {
        "id": "0sS7j9GR2jxy"
      },
      "source": [
        "Было подсчитано количество дубликатов"
      ]
    },
    {
      "cell_type": "code",
      "execution_count": null,
      "metadata": {
        "colab": {
          "base_uri": "https://localhost:8080/"
        },
        "id": "3_ZOcLoX2l7m",
        "outputId": "3b909f48-5ca3-47fb-fa6c-d17593dbfcae"
      },
      "outputs": [
        {
          "output_type": "execute_result",
          "data": {
            "text/plain": [
              "0"
            ]
          },
          "metadata": {},
          "execution_count": 101
        }
      ],
      "source": [
        "df.duplicated().sum()"
      ]
    },
    {
      "cell_type": "markdown",
      "metadata": {
        "id": "tBzz2HLY2lH4"
      },
      "source": [
        "Не было найдено дубликатов"
      ]
    },
    {
      "cell_type": "markdown",
      "metadata": {
        "id": "oxTZNj652nZy"
      },
      "source": [
        "Тип данных для столбца Month_to_end_contract был изменен на int."
      ]
    },
    {
      "cell_type": "code",
      "execution_count": null,
      "metadata": {
        "id": "bSR8IZHA2oN_"
      },
      "outputs": [],
      "source": [
        "df['Month_to_end_contract'] = df['Month_to_end_contract'].astype(int)"
      ]
    },
    {
      "cell_type": "markdown",
      "metadata": {
        "id": "MmlrYeFB25Dj"
      },
      "source": [
        "Была создана и обучена модель"
      ]
    },
    {
      "cell_type": "code",
      "execution_count": null,
      "metadata": {
        "id": "6Iq4sCZ83eMz"
      },
      "outputs": [],
      "source": [
        "x = np.array(df.drop(['Churn'], axis = 1))\n",
        "y = np.array(df['Churn'])\n",
        "\n",
        "x_train,x_valid,y_train,y_valid = train_test_split(x,y,test_size = 0.25,random_state = 0)"
      ]
    },
    {
      "cell_type": "code",
      "execution_count": null,
      "metadata": {
        "id": "sYLKJME624um"
      },
      "outputs": [],
      "source": [
        "model_part_2 = Sequential()\n",
        "\n",
        "model_part_2.add(Dense(units=64,activation = 'sigmoid', input_dim = 13)) # преобразует отрицательные значения в 0, положительные без изменений\n",
        "model_part_2.add(Dense(units=32, activation = 'sigmoid', input_dim = 13))\n",
        "model_part_2.add(Dense(units = 1, activation = 'sigmoid'))\n"
      ]
    },
    {
      "cell_type": "code",
      "execution_count": null,
      "metadata": {
        "id": "AEKktw4H28G3"
      },
      "outputs": [],
      "source": [
        "model_part_2.compile(loss = \"binary_crossentropy\", optimizer = 'sgd',metrics = ['mae'])"
      ]
    },
    {
      "cell_type": "code",
      "execution_count": null,
      "metadata": {
        "colab": {
          "base_uri": "https://localhost:8080/"
        },
        "id": "I-dzXGRG3NbQ",
        "outputId": "a8cf8ac5-97a6-498d-f4e8-aca2775e2490"
      },
      "outputs": [
        {
          "output_type": "stream",
          "name": "stdout",
          "text": [
            "Epoch 1/20\n",
            "63/63 [==============================] - 1s 7ms/step - loss: 0.5865 - mae: 0.3820 - val_loss: 0.5772 - val_mae: 0.3843\n",
            "Epoch 2/20\n",
            "63/63 [==============================] - 0s 4ms/step - loss: 0.5826 - mae: 0.3903 - val_loss: 0.5760 - val_mae: 0.3877\n",
            "Epoch 3/20\n",
            "63/63 [==============================] - 0s 4ms/step - loss: 0.5810 - mae: 0.3886 - val_loss: 0.5757 - val_mae: 0.3946\n",
            "Epoch 4/20\n",
            "63/63 [==============================] - 0s 4ms/step - loss: 0.5800 - mae: 0.3942 - val_loss: 0.5744 - val_mae: 0.3899\n",
            "Epoch 5/20\n",
            "63/63 [==============================] - 0s 4ms/step - loss: 0.5790 - mae: 0.3920 - val_loss: 0.5735 - val_mae: 0.3886\n",
            "Epoch 6/20\n",
            "63/63 [==============================] - 0s 4ms/step - loss: 0.5781 - mae: 0.3913 - val_loss: 0.5727 - val_mae: 0.3879\n",
            "Epoch 7/20\n",
            "63/63 [==============================] - 0s 4ms/step - loss: 0.5771 - mae: 0.3897 - val_loss: 0.5720 - val_mae: 0.3894\n",
            "Epoch 8/20\n",
            "63/63 [==============================] - 0s 6ms/step - loss: 0.5761 - mae: 0.3914 - val_loss: 0.5711 - val_mae: 0.3864\n",
            "Epoch 9/20\n",
            "63/63 [==============================] - 0s 6ms/step - loss: 0.5749 - mae: 0.3876 - val_loss: 0.5703 - val_mae: 0.3902\n",
            "Epoch 10/20\n",
            "63/63 [==============================] - 0s 4ms/step - loss: 0.5735 - mae: 0.3912 - val_loss: 0.5678 - val_mae: 0.3833\n",
            "Epoch 11/20\n",
            "63/63 [==============================] - 0s 3ms/step - loss: 0.5692 - mae: 0.3837 - val_loss: 0.5647 - val_mae: 0.3854\n",
            "Epoch 12/20\n",
            "63/63 [==============================] - 0s 3ms/step - loss: 0.5673 - mae: 0.3862 - val_loss: 0.5629 - val_mae: 0.3862\n",
            "Epoch 13/20\n",
            "63/63 [==============================] - 0s 3ms/step - loss: 0.5650 - mae: 0.3848 - val_loss: 0.5604 - val_mae: 0.3854\n",
            "Epoch 14/20\n",
            "63/63 [==============================] - 0s 3ms/step - loss: 0.5624 - mae: 0.3840 - val_loss: 0.5581 - val_mae: 0.3862\n",
            "Epoch 15/20\n",
            "63/63 [==============================] - 0s 3ms/step - loss: 0.5604 - mae: 0.3850 - val_loss: 0.5562 - val_mae: 0.3810\n",
            "Epoch 16/20\n",
            "63/63 [==============================] - 0s 3ms/step - loss: 0.5588 - mae: 0.3829 - val_loss: 0.5547 - val_mae: 0.3781\n",
            "Epoch 17/20\n",
            "63/63 [==============================] - 0s 3ms/step - loss: 0.5570 - mae: 0.3790 - val_loss: 0.5528 - val_mae: 0.3829\n",
            "Epoch 18/20\n",
            "63/63 [==============================] - 0s 3ms/step - loss: 0.5552 - mae: 0.3808 - val_loss: 0.5508 - val_mae: 0.3803\n",
            "Epoch 19/20\n",
            "63/63 [==============================] - 0s 3ms/step - loss: 0.5523 - mae: 0.3814 - val_loss: 0.5513 - val_mae: 0.3706\n",
            "Epoch 20/20\n",
            "63/63 [==============================] - 0s 3ms/step - loss: 0.5507 - mae: 0.3780 - val_loss: 0.5469 - val_mae: 0.3730\n"
          ]
        }
      ],
      "source": [
        "history_part_2 = model_part_2.fit(x_train, y_train, epochs = 20, batch_size = 32, validation_split = 0.33)"
      ]
    },
    {
      "cell_type": "code",
      "execution_count": null,
      "metadata": {
        "colab": {
          "base_uri": "https://localhost:8080/"
        },
        "id": "bN96n-q94VxL",
        "outputId": "a7e397a8-e5b0-416a-e65f-0be6c1d2e771"
      },
      "outputs": [
        {
          "output_type": "stream",
          "name": "stdout",
          "text": [
            "32/32 [==============================] - 0s 1ms/step\n"
          ]
        }
      ],
      "source": [
        "preds = model_part_2.predict(x_valid)"
      ]
    },
    {
      "cell_type": "markdown",
      "metadata": {
        "id": "uRtbtMJwtXWS"
      },
      "source": []
    },
    {
      "cell_type": "markdown",
      "metadata": {
        "id": "yMEi69qItY9X"
      },
      "source": [
        "Была получена история ошибок и метрик модели. Были построены графики\n"
      ]
    },
    {
      "cell_type": "code",
      "execution_count": null,
      "metadata": {
        "id": "a3AzVKKYtZOF"
      },
      "outputs": [],
      "source": [
        "loss_history_2 = history_part_2.history['loss']\n",
        "metrics_2 = history_part_2.history['mae']\n",
        "loss_history_2_val = history_part_2.history['val_loss']\n",
        "metrics_2_val = history_part_2.history['val_mae']"
      ]
    },
    {
      "cell_type": "code",
      "source": [
        "plt.plot(np.arange(20),loss_history_2,  color = 'b', label = \"Losses on test\")\n",
        "plt.plot(np.arange(20),loss_history_2_val,  color = 'r', label = \"Losses on valid\")\n",
        "plt.xlabel(\"Эпоха\")\n",
        "plt.ylabel(\"Значение ошибки\")\n",
        "plt.legend()\n",
        "plt.grid()\n",
        "plt.show()"
      ],
      "metadata": {
        "colab": {
          "base_uri": "https://localhost:8080/",
          "height": 449
        },
        "id": "Vk3DqBSNR8Cp",
        "outputId": "c15bd06f-ac1d-45cd-e330-9ad60678c6bf"
      },
      "execution_count": null,
      "outputs": [
        {
          "output_type": "display_data",
          "data": {
            "text/plain": [
              "<Figure size 640x480 with 1 Axes>"
            ],
            "image/png": "[encoded data removed]"
          },
          "metadata": {}
        }
      ]
    },
    {
      "cell_type": "code",
      "source": [
        "plt.plot(np.arange(20),metrics_2,  color = 'b', label = \"Metrics on test\")\n",
        "plt.plot(np.arange(20),metrics_2_val,  color = 'r', label = \"Metrics on valid\")\n",
        "plt.xlabel(\"Эпоха\")\n",
        "plt.ylabel(\"Значение метрики\")\n",
        "plt.legend()\n",
        "plt.grid()\n",
        "plt.show()"
      ],
      "metadata": {
        "colab": {
          "base_uri": "https://localhost:8080/",
          "height": 449
        },
        "id": "lhxMDK3RR9zR",
        "outputId": "f37ba97e-f1ea-493a-ab88-cb6212e055de"
      },
      "execution_count": null,
      "outputs": [
        {
          "output_type": "display_data",
          "data": {
            "text/plain": [
              "<Figure size 640x480 with 1 Axes>"
            ],
            "image/png": "[encoded data removed]"
          },
          "metadata": {}
        }
      ]
    },
    {
      "cell_type": "markdown",
      "source": [
        "По данным графикам можно сделать вывод о том, что с каждой эпохой уровень ошибки падал, однако уровень показателя метрики на валидационных данных судя по общей картине снижался, но раз в несколько эпох поднимался выше тестовых значений."
      ],
      "metadata": {
        "id": "SqGozP4lAHbW"
      }
    },
    {
      "cell_type": "markdown",
      "metadata": {
        "id": "QKus3oscu3mG"
      },
      "source": []
    },
    {
      "cell_type": "markdown",
      "metadata": {
        "id": "lZ2kdlDkvUCw"
      },
      "source": [
        "Был построен график ROC-кривой"
      ]
    },
    {
      "cell_type": "code",
      "execution_count": null,
      "metadata": {
        "id": "w-06OxJ74RwZ"
      },
      "outputs": [],
      "source": [
        "fpr, tpr, thresholds = roc_curve(y_valid, preds)"
      ]
    },
    {
      "cell_type": "code",
      "execution_count": null,
      "metadata": {
        "colab": {
          "base_uri": "https://localhost:8080/",
          "height": 497
        },
        "id": "n8FNo_Jj_HxV",
        "outputId": "eb687b97-77ba-4714-8b25-9dfcfb5524a5"
      },
      "outputs": [
        {
          "output_type": "execute_result",
          "data": {
            "text/plain": [
              "Text(0.5, 1.0, 'ROC-кривая')"
            ]
          },
          "metadata": {},
          "execution_count": 112
        },
        {
          "output_type": "display_data",
          "data": {
            "text/plain": [
              "<Figure size 640x480 with 1 Axes>"
            ],
            "image/png": "[encoded data removed]"
          },
          "metadata": {}
        }
      ],
      "source": [
        "plt.plot(fpr, tpr, color = 'blue',linestyle = '--',linewidth = 3)\n",
        "plt.ylabel('True Positive Rate',fontsize=14)\n",
        "plt.xlabel('False Positive Rate',fontsize=14)\n",
        "plt.grid(True)\n",
        "plt.title(\"ROC-кривая\", fontsize=16,fontweight=1000)"
      ]
    },
    {
      "cell_type": "markdown",
      "source": [
        "Показатели досаточно хороши, т.к. близки к единице, что значит, что площадь под графиком увеличивается, что говорит нам о том, что показатели хороши."
      ],
      "metadata": {
        "id": "ox7RNdgNW93U"
      }
    },
    {
      "cell_type": "markdown",
      "metadata": {
        "id": "V6UgIfGlCVOo"
      },
      "source": [
        "В результате выполнения данной работы была выполнена задача регрессии с помощью нейронной сети. Были созданы последовательные модели с разным количеством скрытых слоёв, благодаря чему была изучена зависимость результатов предсказыванияя от колиества слоёв (при отсутствии скрытых слоёв модель значительно хуже обучается). В данной работе была выполнена обработка данных зависимости образа жизни и различных факторов на качество сна. Были построены графики по показателям ошибки и метрики качества, были сделаны выводы. По графикам и истории обучения по эпохам можно сделать выводы, что для хорошего обучения модели необходимо грамотно подобрать ошибки и метрики для обучения, также количество слоёв играет важную роль."
      ]
    },
    {
      "cell_type": "markdown",
      "source": [],
      "metadata": {
        "id": "YcVgZTfVAlSv"
      }
    },
    {
      "cell_type": "markdown",
      "source": [
        "Сравнить результаты классификации при подаче меньшего количества столбцов в input_dim"
      ],
      "metadata": {
        "id": "zJx5Y4NGAnVg"
      }
    },
    {
      "cell_type": "markdown",
      "source": [
        "Было взято меньше столбцов данных для проверки"
      ],
      "metadata": {
        "id": "aaGwN_TqJXYS"
      }
    },
    {
      "cell_type": "code",
      "source": [
        "x = np.array(df.iloc[:, :8])\n",
        "\n",
        "#x = np.array(df.drop(['Churn'], axis = 1))\n",
        "y = np.array(df['Churn'])\n",
        "\n",
        "x_train,x_valid,y_train,y_valid = train_test_split(x,y,test_size = 0.25,random_state = 0)"
      ],
      "metadata": {
        "id": "iFE15wREAxgg"
      },
      "execution_count": null,
      "outputs": []
    },
    {
      "cell_type": "markdown",
      "source": [
        "Модель была создана, обучена. Были созданы графики."
      ],
      "metadata": {
        "id": "1qzh-uGqJivi"
      }
    },
    {
      "cell_type": "code",
      "source": [
        "model_part_2 = Sequential()\n",
        "\n",
        "model_part_2.add(Dense(units=64,activation = 'sigmoid', input_dim = 8)) # преобразует отрицательные значения в 0, положительные без изменений\n",
        "model_part_2.add(Dense(units=32, activation = 'sigmoid', input_dim = 8))\n",
        "model_part_2.add(Dense(units = 1, activation = 'sigmoid'))\n",
        "model_part_2.compile(loss = \"binary_crossentropy\", optimizer = 'sgd',metrics = ['mae'])\n",
        "\n",
        "history_part_2 = model_part_2.fit(x_train, y_train, epochs = 20, batch_size = 32, validation_split = 0.33)\n",
        "\n",
        "preds = model_part_2.predict(x_valid)\n",
        "\n",
        "loss_history_2 = history_part_2.history['loss']\n",
        "metrics_2 = history_part_2.history['mae']\n",
        "loss_history_2_val = history_part_2.history['val_loss']\n",
        "metrics_2_val = history_part_2.history['val_mae']\n",
        "\n",
        "plt.plot(np.arange(20),loss_history_2,  color = 'b', label = \"Losses on test\")\n",
        "plt.plot(np.arange(20),loss_history_2_val,  color = 'r', label = \"Losses on valid\")\n",
        "plt.xlabel(\"Эпоха\")\n",
        "plt.ylabel(\"Значение ошибки\")\n",
        "plt.legend()\n",
        "plt.grid()\n",
        "plt.show()\n",
        "\n",
        "plt.plot(np.arange(20),metrics_2,  color = 'b', label = \"Metrics on test\")\n",
        "plt.plot(np.arange(20),metrics_2_val,  color = 'r', label = \"Metrics on valid\")\n",
        "plt.xlabel(\"Эпоха\")\n",
        "plt.ylabel(\"Значение метрики\")\n",
        "plt.legend()\n",
        "plt.grid()\n",
        "plt.show()\n",
        "\n",
        "fpr, tpr, thresholds = roc_curve(y_valid, preds)\n",
        "plt.plot(fpr, tpr, color = 'blue',linestyle = '--',linewidth = 3)\n",
        "plt.ylabel('True Positive Rate',fontsize=14)\n",
        "plt.xlabel('False Positive Rate',fontsize=14)\n",
        "plt.grid(True)\n",
        "plt.title(\"ROC-кривая\", fontsize=16,fontweight=1000)"
      ],
      "metadata": {
        "colab": {
          "base_uri": "https://localhost:8080/",
          "height": 1000
        },
        "id": "PqkN9YQrA4r6",
        "outputId": "4fb2c73e-6a1e-4074-b915-2c4987ace041"
      },
      "execution_count": null,
      "outputs": [
        {
          "output_type": "stream",
          "name": "stdout",
          "text": [
            "Epoch 1/20\n",
            "63/63 [==============================] - 1s 6ms/step - loss: 0.6378 - mae: 0.4572 - val_loss: 0.5800 - val_mae: 0.4077\n",
            "Epoch 2/20\n",
            "63/63 [==============================] - 0s 3ms/step - loss: 0.5810 - mae: 0.3991 - val_loss: 0.5730 - val_mae: 0.3932\n",
            "Epoch 3/20\n",
            "63/63 [==============================] - 0s 3ms/step - loss: 0.5770 - mae: 0.3944 - val_loss: 0.5700 - val_mae: 0.3855\n",
            "Epoch 4/20\n",
            "63/63 [==============================] - 0s 3ms/step - loss: 0.5750 - mae: 0.3890 - val_loss: 0.5680 - val_mae: 0.3867\n",
            "Epoch 5/20\n",
            "63/63 [==============================] - 0s 3ms/step - loss: 0.5730 - mae: 0.3892 - val_loss: 0.5663 - val_mae: 0.3869\n",
            "Epoch 6/20\n",
            "63/63 [==============================] - 0s 3ms/step - loss: 0.5712 - mae: 0.3883 - val_loss: 0.5648 - val_mae: 0.3872\n",
            "Epoch 7/20\n",
            "63/63 [==============================] - 0s 3ms/step - loss: 0.5696 - mae: 0.3883 - val_loss: 0.5632 - val_mae: 0.3859\n",
            "Epoch 8/20\n",
            "63/63 [==============================] - 0s 3ms/step - loss: 0.5682 - mae: 0.3872 - val_loss: 0.5618 - val_mae: 0.3859\n",
            "Epoch 9/20\n",
            "63/63 [==============================] - 0s 3ms/step - loss: 0.5668 - mae: 0.3863 - val_loss: 0.5605 - val_mae: 0.3864\n",
            "Epoch 10/20\n",
            "63/63 [==============================] - 0s 3ms/step - loss: 0.5651 - mae: 0.3883 - val_loss: 0.5588 - val_mae: 0.3821\n",
            "Epoch 11/20\n",
            "63/63 [==============================] - 0s 3ms/step - loss: 0.5636 - mae: 0.3843 - val_loss: 0.5576 - val_mae: 0.3842\n",
            "Epoch 12/20\n",
            "63/63 [==============================] - 0s 3ms/step - loss: 0.5621 - mae: 0.3866 - val_loss: 0.5560 - val_mae: 0.3809\n",
            "Epoch 13/20\n",
            "63/63 [==============================] - 0s 3ms/step - loss: 0.5608 - mae: 0.3835 - val_loss: 0.5546 - val_mae: 0.3822\n",
            "Epoch 14/20\n",
            "63/63 [==============================] - 0s 3ms/step - loss: 0.5593 - mae: 0.3841 - val_loss: 0.5530 - val_mae: 0.3808\n",
            "Epoch 15/20\n",
            "63/63 [==============================] - 0s 3ms/step - loss: 0.5575 - mae: 0.3812 - val_loss: 0.5518 - val_mae: 0.3838\n",
            "Epoch 16/20\n",
            "63/63 [==============================] - 0s 4ms/step - loss: 0.5560 - mae: 0.3843 - val_loss: 0.5498 - val_mae: 0.3790\n",
            "Epoch 17/20\n",
            "63/63 [==============================] - 0s 3ms/step - loss: 0.5543 - mae: 0.3814 - val_loss: 0.5481 - val_mae: 0.3785\n",
            "Epoch 18/20\n",
            "63/63 [==============================] - 0s 3ms/step - loss: 0.5525 - mae: 0.3812 - val_loss: 0.5464 - val_mae: 0.3768\n",
            "Epoch 19/20\n",
            "63/63 [==============================] - 0s 3ms/step - loss: 0.5507 - mae: 0.3787 - val_loss: 0.5448 - val_mae: 0.3789\n",
            "Epoch 20/20\n",
            "63/63 [==============================] - 0s 3ms/step - loss: 0.5489 - mae: 0.3806 - val_loss: 0.5427 - val_mae: 0.3740\n",
            "32/32 [==============================] - 0s 1ms/step\n"
          ]
        },
        {
          "output_type": "display_data",
          "data": {
            "text/plain": [
              "<Figure size 640x480 with 1 Axes>"
            ],
            "image/png": "[encoded data removed]"
          },
          "metadata": {}
        },
        {
          "output_type": "display_data",
          "data": {
            "text/plain": [
              "<Figure size 640x480 with 1 Axes>"
            ],
            "image/png": "[encoded data removed]"
          },
          "metadata": {}
        },
        {
          "output_type": "execute_result",
          "data": {
            "text/plain": [
              "Text(0.5, 1.0, 'ROC-кривая')"
            ]
          },
          "metadata": {},
          "execution_count": 114
        },
        {
          "output_type": "display_data",
          "data": {
            "text/plain": [
              "<Figure size 640x480 with 1 Axes>"
            ],
            "image/png": "[encoded data removed]"
          },
          "metadata": {}
        }
      ]
    },
    {
      "cell_type": "markdown",
      "source": [
        "Судя по данным графикам, можно сделать выводы о том, что в случае, если нейронная сеть получает на вход меньшее кол-во столбцов данных, показатели метрик и ошибки улучшаются, однако показатели ROC-кривой ухудшились. В данном случае, важно заметить, что при отсутствии тех или иных данных, необходимых для классификации как может улучшить показатели предсказанных данных, так и ухудшить. При наличии неполоноценного набора признаков достоверность предсказанных значений падает."
      ],
      "metadata": {
        "id": "1jXtEYuyA_KL"
      }
    }
  ],
  "metadata": {
    "colab": {
      "provenance": []
    },
    "kernelspec": {
      "display_name": "Python 3",
      "name": "python3"
    },
    "language_info": {
      "name": "python"
    }
  },
  "nbformat": 4,
  "nbformat_minor": 0
}
